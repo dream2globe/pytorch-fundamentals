{
 "cells": [
  {
   "cell_type": "markdown",
   "id": "a79912fe-ce62-4515-965e-f6b13d86e355",
   "metadata": {},
   "source": [
    "# Setup\n",
    "- 필요한 라이브러리를 호출"
   ]
  },
  {
   "cell_type": "code",
   "execution_count": 1,
   "id": "653f5a24-a01a-4894-97ca-d093ac7d0c30",
   "metadata": {},
   "outputs": [],
   "source": [
    "import json\n",
    "import math\n",
    "import os\n",
    "import urllib.request\n",
    "import warnings\n",
    "from urllib.error import HTTPError\n",
    "\n",
    "import matplotlib.pyplot as plt\n",
    "import numpy as np\n",
    "import seaborn as sns\n",
    "import torch\n",
    "import torch.nn as nn\n",
    "import torch.nn.functional as F\n",
    "import torch.optim as optim\n",
    "import torch.utils.data as data\n",
    "import torchvision\n",
    "\n",
    "# %matplotlib inline\n",
    "from matplotlib_inline.backend_inline import set_matplotlib_formats\n",
    "from torchvision import transforms\n",
    "from torchvision.datasets import FashionMNIST\n",
    "from tqdm.notebook import tqdm\n",
    "\n",
    "set_matplotlib_formats(\"svg\", \"pdf\")  # For export\n",
    "sns.set()"
   ]
  },
  {
   "cell_type": "markdown",
   "id": "9505f90c-1558-43a6-ac39-504d0222971b",
   "metadata": {},
   "source": [
    "- 재현을 위해서 seed를 설정함\n",
    "    - CPU와 다르게 같은 시드를 사용해도 다른 GPU 구조에서 다른 결과를 얻을 수 있음\n",
    "- 다운로드 장소 설정이 필요함\n",
    "    - `DATASET_PATH`: 데이터 다운로드 장소\n",
    "    - `CHECKPOINT_PATH`: 학습된 모델의 가중치와 추가 파일을 저장하는 장소"
   ]
  },
  {
   "cell_type": "code",
   "execution_count": 2,
   "id": "89e47f9c-988f-4b7e-b956-4457f24acb00",
   "metadata": {},
   "outputs": [
    {
     "name": "stdout",
     "output_type": "stream",
     "text": [
      "Using device cuda:0\n"
     ]
    }
   ],
   "source": [
    "# Path to the folder where the datasets are/should be downloaded (e.g. MNIST)\n",
    "DATASET_PATH = os.environ.get(\"PATH_DATASETS\", \"data/\")\n",
    "# Path to the folder where the pretrained models are saved\n",
    "CHECKPOINT_PATH = os.environ.get(\"PATH_CHECKPOINT\", \"saved_models/Activation_Functions/\")\n",
    "\n",
    "# Function for setting the seed\n",
    "def set_seed(seed):\n",
    "    np.random.seed(seed)\n",
    "    torch.manual_seed(seed)\n",
    "    if torch.cuda.is_available():  # GPU operation have separate seed\n",
    "        torch.cuda.manual_seed(seed)\n",
    "        torch.cuda.manual_seed_all(seed)\n",
    "\n",
    "\n",
    "set_seed(42)\n",
    "\n",
    "# Additionally, some operations on a GPU are implemented stochastic for efficiency\n",
    "# We want to ensure that all operations are deterministic on GPU (if used) for reproducibility\n",
    "torch.backends.cudnn.determinstic = True\n",
    "torch.backends.cudnn.benchmark = False\n",
    "\n",
    "# Fetching the device that will be used throughout this notebook\n",
    "device = torch.device(\"cpu\") if not torch.cuda.is_available() else torch.device(\"cuda:0\")\n",
    "print(\"Using device\", device)"
   ]
  },
  {
   "cell_type": "markdown",
   "id": "14b2c307-29ed-463a-8ceb-b3e16f6c7244",
   "metadata": {},
   "source": [
    "- 사전 학습된 모델을 다운로드함"
   ]
  },
  {
   "cell_type": "code",
   "execution_count": 3,
   "id": "a87b21e9-a470-43f5-8909-eaf821e2b44e",
   "metadata": {},
   "outputs": [],
   "source": [
    "# Github URL where saved models are stored for this tutorial\n",
    "base_url = \"https://raw.githubusercontent.com/phlippe/saved_models/main/tutorial3/\"\n",
    "# Files to download\n",
    "pretrained_files = [\n",
    "    \"FashionMNIST_elu.config\",\n",
    "    \"FashionMNIST_elu.tar\",\n",
    "    \"FashionMNIST_leakyrelu.config\",\n",
    "    \"FashionMNIST_leakyrelu.tar\",\n",
    "    \"FashionMNIST_relu.config\",\n",
    "    \"FashionMNIST_relu.tar\",\n",
    "    \"FashionMNIST_sigmoid.config\",\n",
    "    \"FashionMNIST_sigmoid.tar\",\n",
    "    \"FashionMNIST_swish.config\",\n",
    "    \"FashionMNIST_swish.tar\",\n",
    "    \"FashionMNIST_tanh.config\",\n",
    "    \"FashionMNIST_tanh.tar\",\n",
    "]\n",
    "# Create checkpoint path if it doesn't exist yet\n",
    "os.makedirs(CHECKPOINT_PATH, exist_ok=True)\n",
    "\n",
    "# For each file, check whether it already exists. If not, try downloading it.\n",
    "for file_name in pretrained_files:\n",
    "    file_path = os.path.join(CHECKPOINT_PATH, file_name)\n",
    "    if not os.path.isfile(file_path):\n",
    "        file_url = base_url + file_name\n",
    "        print(f\"Downloading {file_url}...\")\n",
    "        try:\n",
    "            urllib.request.urlretrieve(file_url, file_path)\n",
    "        except HTTPError as e:\n",
    "            print(\"Something went wrong. Please try to download the file from the GDrive folder, or contact the author with the full output including the following error:\\n\",\n",
    "                  e,\n",
    "            )"
   ]
  },
  {
   "cell_type": "markdown",
   "id": "78157f4f-c2ec-483c-b5e5-1fabd9a0cd78",
   "metadata": {},
   "source": [
    "# Common activation functions\n",
    "- `torch.nn`에서 대부분 찾을 수 있지만 이해를 돕기 위해 활성함수를 직접 구현\n",
    "- `nn.Module`을 상속했기 때문에 쉽게 네트워크에 결합할 수 있음\n",
    "- 일부 활성 함수의 설정값을 저장하기 위해 `config` 딕셔너리를 사용할 것임"
   ]
  },
  {
   "cell_type": "code",
   "execution_count": 4,
   "id": "fb8e7afc-80b1-4283-aa5e-196812823687",
   "metadata": {},
   "outputs": [],
   "source": [
    "class ActivationFunction(nn.Module):\n",
    "    def __init__(self):\n",
    "        super().__init__()\n",
    "        self.name = self.__class__.__name__\n",
    "        self.config = {\"name\": self.name}"
   ]
  },
  {
   "cell_type": "markdown",
   "id": "0104658a-d80a-4803-9736-509dcc34c1b4",
   "metadata": {},
   "source": [
    "- 함수: torch.sigmoid, torch.tanh\n",
    "- 모듈: nn.Sigmoid, nn.Tanh "
   ]
  },
  {
   "cell_type": "code",
   "execution_count": 6,
   "id": "81e375e9-7fe1-4652-90e7-1ba640173c3b",
   "metadata": {},
   "outputs": [],
   "source": [
    "class Sigmoid(ActivationFunction):\n",
    "    def forward(self, x):\n",
    "        return 1 / (1 + torch.exp(-x))\n",
    "\n",
    "class Tanh(ActivationFunction):\n",
    "    def forward(self, x):\n",
    "        x_exp, neg_x_exp = torch.exp(x), torch.exp(-x)\n",
    "        return (x_exp - neg_x_exp) / (x_exp + neg_x_exp)\n",
    "    \n",
    "class ReLU(ActivationFunction):\n",
    "    def forward(self, x):\n",
    "        return x * (x > 0).float()\n",
    "\n",
    "class LeakyReLU(ActivationFunction):\n",
    "    def __init__(self, alpha=0.1):\n",
    "        super().__init__()\n",
    "        self.config[\"alpha\"] = alpha\n",
    "\n",
    "    def forward(self, x):\n",
    "        return torch.where(x > 0, x, self.config[\"alpha\"] * x)\n",
    "\n",
    "class ELU(ActivationFunction):\n",
    "    def forward(self, x):\n",
    "        return torch.where(x > 0, x, torch.exp(x) - 1)\n",
    "\n",
    "class Swish(ActivationFunction):\n",
    "    def forward(self, x):\n",
    "        return x * torch.sigmoid(x)"
   ]
  },
  {
   "cell_type": "code",
   "execution_count": null,
   "id": "2eeff587-e46d-4875-87fe-32140e34885f",
   "metadata": {},
   "outputs": [],
   "source": []
  }
 ],
 "metadata": {
  "kernelspec": {
   "display_name": "Python 3 (ipykernel)",
   "language": "python",
   "name": "python3"
  },
  "language_info": {
   "codemirror_mode": {
    "name": "ipython",
    "version": 3
   },
   "file_extension": ".py",
   "mimetype": "text/x-python",
   "name": "python",
   "nbconvert_exporter": "python",
   "pygments_lexer": "ipython3",
   "version": "3.8.12"
  }
 },
 "nbformat": 4,
 "nbformat_minor": 5
}
