{
 "cells": [
  {
   "cell_type": "markdown",
   "id": "static-disorder",
   "metadata": {},
   "source": [
    "# The full model building process"
   ]
  },
  {
   "cell_type": "code",
   "execution_count": 1,
   "id": "alpha-conjunction",
   "metadata": {},
   "outputs": [],
   "source": [
    "%matplotlib inline"
   ]
  },
  {
   "cell_type": "markdown",
   "id": "complimentary-mixture",
   "metadata": {},
   "source": [
    "## Working with data"
   ]
  },
  {
   "cell_type": "code",
   "execution_count": 2,
   "id": "refined-average",
   "metadata": {},
   "outputs": [],
   "source": [
    "import torch\n",
    "from torch import nn\n",
    "from torch.utils.data import DataLoader\n",
    "from torchvision import datasets\n",
    "from torchvision.transforms import ToTensor, Lambda, Compose\n",
    "import matplotlib.pyplot as plt"
   ]
  },
  {
   "cell_type": "markdown",
   "id": "modern-tissue",
   "metadata": {},
   "source": [
    "- PyTorch는 [TorchText](https://pytorch.org/text/stable/index.html), [TorchVision](https://pytorch.org/vision/stable/index.html), [TorchAudio](https://pytorch.org/audio/stable/index.html)과 같은 도메인 특화된 라이브러리를 제공하며 본 예시에는 TorchVision dataset을 사용함\n",
    "- `torchVision.dataset` 모듈은 CIFAR, COCO 등 현실 비전데이터를 포함하며([full list here](https://pytorch.org/docs/stable/torchvision/datasets.html)) 예제에서는 **FashionMNIST**를 사용함"
   ]
  },
  {
   "cell_type": "code",
   "execution_count": 3,
   "id": "endangered-norway",
   "metadata": {},
   "outputs": [],
   "source": [
    "training_data = datasets.FashionMNIST(\n",
    "    root=\"data\",\n",
    "    train=True,\n",
    "    download=True,\n",
    "    transform=ToTensor()\n",
    ")\n",
    "\n",
    "test_data = datasets.FashionMNIST(\n",
    "    root=\"data\",\n",
    "    train=False,\n",
    "    download=True,\n",
    "    transform=ToTensor()\n",
    ")"
   ]
  },
  {
   "cell_type": "markdown",
   "id": "consistent-marijuana",
   "metadata": {},
   "source": [
    "- `dataset`은 `dataLoader`의 매개 변수로써 데이터를 통화시키며, 이러한 처리를 통해 batching, sampling, shuffling 그리고 multiprocess을 제공함\n",
    "- batch size는 64로 설정함"
   ]
  },
  {
   "cell_type": "code",
   "execution_count": 4,
   "id": "nuclear-senior",
   "metadata": {},
   "outputs": [
    {
     "name": "stdout",
     "output_type": "stream",
     "text": [
      "Shape of X [N, C, H, W]:  torch.Size([64, 1, 28, 28])\n",
      "Shape of y:  torch.Size([64]) torch.int64\n"
     ]
    }
   ],
   "source": [
    "batch_size = 64\n",
    "\n",
    "train_dataloader = DataLoader(training_data, batch_size=batch_size)\n",
    "test_dataloader = DataLoader(training_data, batch_size=batch_size)\n",
    "\n",
    "for X, y in test_dataloader:\n",
    "    print(\"Shape of X [N, C, H, W]: \", X.shape)\n",
    "    print(\"Shape of y: \", y.shape, y.dtype)\n",
    "    break"
   ]
  },
  {
   "cell_type": "markdown",
   "id": "confident-escape",
   "metadata": {},
   "source": [
    "## Creating models\n",
    "\n",
    "- 신경망 구조 정의를 위해 [nn.Module](https://pytorch.org/docs/stable/generated/torch.nn.Module.html)을 상속한 클래스를 작성함\n",
    "- 신경망의 각 층은 `__init__` 안에 정의하고, 어떻게 데이터를 통화할 지 `forward` 함수에 정의함 \n",
    "- 하드웨어 가속을 사용하기 위해 GPU로 인스턴스를 옮김"
   ]
  },
  {
   "cell_type": "code",
   "execution_count": 5,
   "id": "native-warren",
   "metadata": {},
   "outputs": [
    {
     "name": "stdout",
     "output_type": "stream",
     "text": [
      "Using cuda device\n",
      "NeuralNetwork(\n",
      "  (flatten): Flatten(start_dim=1, end_dim=-1)\n",
      "  (linear_relu_stack): Sequential(\n",
      "    (0): Linear(in_features=784, out_features=512, bias=True)\n",
      "    (1): ReLU()\n",
      "    (2): Linear(in_features=512, out_features=512, bias=True)\n",
      "    (3): ReLU()\n",
      "    (4): Linear(in_features=512, out_features=10, bias=True)\n",
      "    (5): ReLU()\n",
      "  )\n",
      ")\n"
     ]
    }
   ],
   "source": [
    "device = \"cuda\" if torch.cuda.is_available() else \"cpu\"\n",
    "print(\"Using {} device\".format(device))\n",
    "\n",
    "class NeuralNetwork(nn.Module):\n",
    "    def __init__(self):\n",
    "        super(NeuralNetwork, self).__init__()\n",
    "        self.flatten = nn.Flatten()\n",
    "        self.linear_relu_stack = nn.Sequential(\n",
    "            nn.Linear(28*28, 512),\n",
    "            nn.ReLU(),\n",
    "            nn.Linear(512, 512),\n",
    "            nn.ReLU(),\n",
    "            nn.Linear(512, 10),\n",
    "            nn.ReLU()\n",
    "        )\n",
    "\n",
    "    def forward(self, x):\n",
    "        x = self.flatten(x)\n",
    "        logits = self.linear_relu_stack(x)\n",
    "        return logits\n",
    "\n",
    "model = NeuralNetwork().to(device)\n",
    "print(model)"
   ]
  },
  {
   "cell_type": "markdown",
   "id": "alleged-statistics",
   "metadata": {},
   "source": [
    "### Optimizing the Model Parameters\n",
    "모델 학습을 위해 [loss function](https://pytorch.org/docs/stable/nn.html#loss-functions>) 과 [optimizer](https://pytorch.org/docs/stable/optim.html)을 구현"
   ]
  },
  {
   "cell_type": "code",
   "execution_count": 6,
   "id": "enhanced-celebrity",
   "metadata": {},
   "outputs": [],
   "source": [
    "loss_fn = nn.CrossEntropyLoss()\n",
    "learning_rate = 1e-3\n",
    "optimizer = torch.optim.SGD(model.parameters(), lr=learning_rate)"
   ]
  },
  {
   "cell_type": "markdown",
   "id": "employed-equipment",
   "metadata": {},
   "source": [
    "단일 학습 반복에서 모델은 학습 데이터의 예측값을 만들고 학습 에러를 줄이기 위해 모델 파라미터를 조절함"
   ]
  },
  {
   "cell_type": "code",
   "execution_count": 7,
   "id": "endangered-touch",
   "metadata": {},
   "outputs": [],
   "source": [
    "def train(dataloader, model, loss_fn, optimizer):\n",
    "    size = len(dataloader.dataset)\n",
    "    for batch, (X, y) in enumerate(dataloader):\n",
    "        X, y = X.to(device), y.to(device)\n",
    "        # Compute prediction error\n",
    "        pred = model(X)\n",
    "        loss = loss_fn(pred, y)\n",
    "        # Backpropagation\n",
    "        optimizer.zero_grad()\n",
    "        loss.backward()\n",
    "        optimizer.step()\n",
    "        # Print loss\n",
    "        if batch % 100 == 0:\n",
    "            loss, current = loss.item(), batch * len(X)\n",
    "            print(f\"loss: {loss:>7f} [{current:>5d}/{size:>5d}]\")"
   ]
  },
  {
   "cell_type": "markdown",
   "id": "southeast-blues",
   "metadata": {},
   "source": [
    "test 데이터셋으로 모델 성능을 확인"
   ]
  },
  {
   "cell_type": "code",
   "execution_count": 8,
   "id": "distinct-kitchen",
   "metadata": {},
   "outputs": [],
   "source": [
    "def test(dataloader, model):\n",
    "    size = len(dataloader.dataset)\n",
    "    model.eval() # 평가모드로 모델이 사용됨을 선언\n",
    "    test_loss, correct = 0, 0\n",
    "    with torch.no_grad(): # 오차 역전차를 사용하지 않음(속도 샹항)\n",
    "        for X, y in dataloader:\n",
    "            X, y = X.to(device), y.to(device)\n",
    "            pred = model(X)\n",
    "            test_loss += loss_fn(pred, y).item()\n",
    "            correct += (pred.argmax(1) == y).type(torch.float).sum().item()\n",
    "    test_loss /= size\n",
    "    correct /= size\n",
    "    print(f\"Test Error: \\n Accuracy: {(100*correct):>0.1f}%, Avg loss: {test_loss:>8f} \\n\")"
   ]
  },
  {
   "cell_type": "markdown",
   "id": "affected-egyptian",
   "metadata": {},
   "source": [
    "학습 과정은 여러번 반복된다. 각 epoch에서 모델은 좀 더 나은 예측을 위해 파라미터를 학습한다. 매번 epoch에서 정확도는 오르고 loss는 내려가길 기대한다. "
   ]
  },
  {
   "cell_type": "code",
   "execution_count": 9,
   "id": "flying-queen",
   "metadata": {},
   "outputs": [
    {
     "name": "stdout",
     "output_type": "stream",
     "text": [
      "Epoch 1\n",
      "-------------------------------\n",
      "loss: 2.306386 [    0/60000]\n",
      "loss: 2.301492 [ 6400/60000]\n",
      "loss: 2.287486 [12800/60000]\n",
      "loss: 2.288501 [19200/60000]\n",
      "loss: 2.280152 [25600/60000]\n",
      "loss: 2.260931 [32000/60000]\n",
      "loss: 2.274716 [38400/60000]\n",
      "loss: 2.257117 [44800/60000]\n",
      "loss: 2.272192 [51200/60000]\n",
      "loss: 2.233226 [57600/60000]\n",
      "Test Error: \n",
      " Accuracy: 29.0%, Avg loss: 0.034991 \n",
      "\n",
      "Epoch 2\n",
      "-------------------------------\n",
      "loss: 2.254365 [    0/60000]\n",
      "loss: 2.245647 [ 6400/60000]\n",
      "loss: 2.206079 [12800/60000]\n",
      "loss: 2.226842 [19200/60000]\n",
      "loss: 2.196355 [25600/60000]\n",
      "loss: 2.157152 [32000/60000]\n",
      "loss: 2.211205 [38400/60000]\n",
      "loss: 2.162241 [44800/60000]\n",
      "loss: 2.220093 [51200/60000]\n",
      "loss: 2.134914 [57600/60000]\n",
      "Test Error: \n",
      " Accuracy: 29.6%, Avg loss: 0.033480 \n",
      "\n",
      "Epoch 3\n",
      "-------------------------------\n",
      "loss: 2.180037 [    0/60000]\n",
      "loss: 2.154796 [ 6400/60000]\n",
      "loss: 2.079502 [12800/60000]\n",
      "loss: 2.132997 [19200/60000]\n",
      "loss: 2.056871 [25600/60000]\n",
      "loss: 2.008379 [32000/60000]\n",
      "loss: 2.121124 [38400/60000]\n",
      "loss: 2.030879 [44800/60000]\n",
      "loss: 2.145980 [51200/60000]\n",
      "loss: 2.018492 [57600/60000]\n",
      "Test Error: \n",
      " Accuracy: 32.2%, Avg loss: 0.031523 \n",
      "\n",
      "Epoch 4\n",
      "-------------------------------\n",
      "loss: 2.080408 [    0/60000]\n",
      "loss: 2.042109 [ 6400/60000]\n",
      "loss: 1.930725 [12800/60000]\n",
      "loss: 2.025315 [19200/60000]\n",
      "loss: 1.908719 [25600/60000]\n",
      "loss: 1.873050 [32000/60000]\n",
      "loss: 2.036989 [38400/60000]\n",
      "loss: 1.917162 [44800/60000]\n",
      "loss: 2.067402 [51200/60000]\n",
      "loss: 1.930892 [57600/60000]\n",
      "Test Error: \n",
      " Accuracy: 34.6%, Avg loss: 0.029781 \n",
      "\n",
      "Epoch 5\n",
      "-------------------------------\n",
      "loss: 1.984714 [    0/60000]\n",
      "loss: 1.941370 [ 6400/60000]\n",
      "loss: 1.801849 [12800/60000]\n",
      "loss: 1.929129 [19200/60000]\n",
      "loss: 1.786559 [25600/60000]\n",
      "loss: 1.774916 [32000/60000]\n",
      "loss: 1.965400 [38400/60000]\n",
      "loss: 1.829559 [44800/60000]\n",
      "loss: 1.988593 [51200/60000]\n",
      "loss: 1.860245 [57600/60000]\n",
      "Test Error: \n",
      " Accuracy: 37.2%, Avg loss: 0.028362 \n",
      "\n",
      "Epoch 6\n",
      "-------------------------------\n",
      "loss: 1.899144 [    0/60000]\n",
      "loss: 1.858560 [ 6400/60000]\n",
      "loss: 1.697902 [12800/60000]\n",
      "loss: 1.851501 [19200/60000]\n",
      "loss: 1.693389 [25600/60000]\n",
      "loss: 1.701813 [32000/60000]\n",
      "loss: 1.907760 [38400/60000]\n",
      "loss: 1.766494 [44800/60000]\n",
      "loss: 1.922460 [51200/60000]\n",
      "loss: 1.802620 [57600/60000]\n",
      "Test Error: \n",
      " Accuracy: 39.5%, Avg loss: 0.027291 \n",
      "\n",
      "Epoch 7\n",
      "-------------------------------\n",
      "loss: 1.829835 [    0/60000]\n",
      "loss: 1.794994 [ 6400/60000]\n",
      "loss: 1.621567 [12800/60000]\n",
      "loss: 1.793561 [19200/60000]\n",
      "loss: 1.626231 [25600/60000]\n",
      "loss: 1.646201 [32000/60000]\n",
      "loss: 1.860064 [38400/60000]\n",
      "loss: 1.719068 [44800/60000]\n",
      "loss: 1.868945 [51200/60000]\n",
      "loss: 1.755366 [57600/60000]\n",
      "Test Error: \n",
      " Accuracy: 40.9%, Avg loss: 0.026482 \n",
      "\n",
      "Epoch 8\n",
      "-------------------------------\n",
      "loss: 1.774606 [    0/60000]\n",
      "loss: 1.748503 [ 6400/60000]\n",
      "loss: 1.564506 [12800/60000]\n",
      "loss: 1.750319 [19200/60000]\n",
      "loss: 1.577427 [25600/60000]\n",
      "loss: 1.592567 [32000/60000]\n",
      "loss: 1.794256 [38400/60000]\n",
      "loss: 1.643588 [44800/60000]\n",
      "loss: 1.777771 [51200/60000]\n",
      "loss: 1.699794 [57600/60000]\n",
      "Test Error: \n",
      " Accuracy: 47.2%, Avg loss: 0.025101 \n",
      "\n",
      "Epoch 9\n",
      "-------------------------------\n",
      "loss: 1.661865 [    0/60000]\n",
      "loss: 1.641201 [ 6400/60000]\n",
      "loss: 1.492773 [12800/60000]\n",
      "loss: 1.733473 [19200/60000]\n",
      "loss: 1.416285 [25600/60000]\n",
      "loss: 1.510073 [32000/60000]\n",
      "loss: 1.722743 [38400/60000]\n",
      "loss: 1.578879 [44800/60000]\n",
      "loss: 1.717921 [51200/60000]\n",
      "loss: 1.661430 [57600/60000]\n",
      "Test Error: \n",
      " Accuracy: 48.6%, Avg loss: 0.024223 \n",
      "\n",
      "Epoch 10\n",
      "-------------------------------\n",
      "loss: 1.591287 [    0/60000]\n",
      "loss: 1.585028 [ 6400/60000]\n",
      "loss: 1.441287 [12800/60000]\n",
      "loss: 1.705534 [19200/60000]\n",
      "loss: 1.354279 [25600/60000]\n",
      "loss: 1.461527 [32000/60000]\n",
      "loss: 1.677961 [38400/60000]\n",
      "loss: 1.540114 [44800/60000]\n",
      "loss: 1.667892 [51200/60000]\n",
      "loss: 1.622598 [57600/60000]\n",
      "Test Error: \n",
      " Accuracy: 49.7%, Avg loss: 0.023522 \n",
      "\n",
      "Epoch 11\n",
      "-------------------------------\n",
      "loss: 1.535849 [    0/60000]\n",
      "loss: 1.544747 [ 6400/60000]\n",
      "loss: 1.394897 [12800/60000]\n",
      "loss: 1.677777 [19200/60000]\n",
      "loss: 1.309286 [25600/60000]\n",
      "loss: 1.418741 [32000/60000]\n",
      "loss: 1.640913 [38400/60000]\n",
      "loss: 1.506557 [44800/60000]\n",
      "loss: 1.623308 [51200/60000]\n",
      "loss: 1.588700 [57600/60000]\n",
      "Test Error: \n",
      " Accuracy: 50.6%, Avg loss: 0.022909 \n",
      "\n",
      "Epoch 12\n",
      "-------------------------------\n",
      "loss: 1.486096 [    0/60000]\n",
      "loss: 1.510478 [ 6400/60000]\n",
      "loss: 1.350875 [12800/60000]\n",
      "loss: 1.652190 [19200/60000]\n",
      "loss: 1.274282 [25600/60000]\n",
      "loss: 1.379514 [32000/60000]\n",
      "loss: 1.609483 [38400/60000]\n",
      "loss: 1.476371 [44800/60000]\n",
      "loss: 1.581986 [51200/60000]\n",
      "loss: 1.558370 [57600/60000]\n",
      "Test Error: \n",
      " Accuracy: 51.6%, Avg loss: 0.022359 \n",
      "\n",
      "Epoch 13\n",
      "-------------------------------\n",
      "loss: 1.439937 [    0/60000]\n",
      "loss: 1.478986 [ 6400/60000]\n",
      "loss: 1.309929 [12800/60000]\n",
      "loss: 1.629353 [19200/60000]\n",
      "loss: 1.245778 [25600/60000]\n",
      "loss: 1.345254 [32000/60000]\n",
      "loss: 1.582366 [38400/60000]\n",
      "loss: 1.449518 [44800/60000]\n",
      "loss: 1.546860 [51200/60000]\n",
      "loss: 1.533963 [57600/60000]\n",
      "Test Error: \n",
      " Accuracy: 52.4%, Avg loss: 0.021898 \n",
      "\n",
      "Epoch 14\n",
      "-------------------------------\n",
      "loss: 1.399428 [    0/60000]\n",
      "loss: 1.450371 [ 6400/60000]\n",
      "loss: 1.275272 [12800/60000]\n",
      "loss: 1.612501 [19200/60000]\n",
      "loss: 1.223407 [25600/60000]\n",
      "loss: 1.317756 [32000/60000]\n",
      "loss: 1.560038 [38400/60000]\n",
      "loss: 1.427479 [44800/60000]\n",
      "loss: 1.517973 [51200/60000]\n",
      "loss: 1.513694 [57600/60000]\n",
      "Test Error: \n",
      " Accuracy: 52.9%, Avg loss: 0.021520 \n",
      "\n",
      "Epoch 15\n",
      "-------------------------------\n",
      "loss: 1.364620 [    0/60000]\n",
      "loss: 1.425341 [ 6400/60000]\n",
      "loss: 1.245308 [12800/60000]\n",
      "loss: 1.597888 [19200/60000]\n",
      "loss: 1.206116 [25600/60000]\n",
      "loss: 1.294839 [32000/60000]\n",
      "loss: 1.540787 [38400/60000]\n",
      "loss: 1.408979 [44800/60000]\n",
      "loss: 1.492633 [51200/60000]\n",
      "loss: 1.495917 [57600/60000]\n",
      "Test Error: \n",
      " Accuracy: 53.4%, Avg loss: 0.021193 \n",
      "\n",
      "Done!\n"
     ]
    }
   ],
   "source": [
    "epochs = 15\n",
    "for t in range(epochs):\n",
    "    print(f\"Epoch {t+1}\\n-------------------------------\")\n",
    "    train(train_dataloader, model, loss_fn, optimizer)\n",
    "    test(test_dataloader, model)\n",
    "print(\"Done!\")"
   ]
  },
  {
   "cell_type": "markdown",
   "id": "christian-evolution",
   "metadata": {},
   "source": [
    "## Saving Models\n",
    "dictionary 형태로 직렬화하는 것이 모델을 저장하는 일반적인 방법임(모델 파라미터를 포함)"
   ]
  },
  {
   "cell_type": "code",
   "execution_count": 10,
   "id": "hidden-separation",
   "metadata": {},
   "outputs": [
    {
     "name": "stdout",
     "output_type": "stream",
     "text": [
      "Saved PyTorch Model State to model.pth\n"
     ]
    }
   ],
   "source": [
    "torch.save(model.state_dict(), \"data/model.pth\")\n",
    "print(\"Saved PyTorch Model State to model.pth\")"
   ]
  },
  {
   "cell_type": "markdown",
   "id": "mexican-album",
   "metadata": {},
   "source": [
    "## Loading Models"
   ]
  },
  {
   "cell_type": "markdown",
   "id": "latest-chance",
   "metadata": {},
   "source": [
    "모델을 읽은 것은 신경망 모델의 구조 재생성을 포함함"
   ]
  },
  {
   "cell_type": "code",
   "execution_count": 11,
   "id": "developed-celtic",
   "metadata": {},
   "outputs": [
    {
     "data": {
      "text/plain": [
       "<All keys matched successfully>"
      ]
     },
     "execution_count": 11,
     "metadata": {},
     "output_type": "execute_result"
    }
   ],
   "source": [
    "model = NeuralNetwork()\n",
    "model.load_state_dict(torch.load(\"data/model.pth\"))"
   ]
  },
  {
   "cell_type": "markdown",
   "id": "diverse-sponsorship",
   "metadata": {},
   "source": [
    "읽은 모델은 예측 생성에 활용할 수 있음"
   ]
  },
  {
   "cell_type": "code",
   "execution_count": 12,
   "id": "premier-crown",
   "metadata": {},
   "outputs": [
    {
     "name": "stdout",
     "output_type": "stream",
     "text": [
      "Predicted: \"Ankle boot\", Actual: \"Ankle boot\"\n"
     ]
    }
   ],
   "source": [
    "classes = [\n",
    "    \"T-shirt/top\",\n",
    "    \"Trouser\",\n",
    "    \"Pullover\",\n",
    "    \"Dress\",\n",
    "    \"Coat\",\n",
    "    \"Sandal\",\n",
    "    \"Shirt\",\n",
    "    \"Sneaker\",\n",
    "    \"Bag\",\n",
    "    \"Ankle boot\",\n",
    "]\n",
    "\n",
    "model.eval()\n",
    "x, y = test_data[0][0], test_data[0][1]\n",
    "\n",
    "with torch.no_grad():\n",
    "    pred = model(x)\n",
    "    predicted, actual = classes[pred[0].argmax(0)], classes[y]\n",
    "    print(f'Predicted: \"{predicted}\", Actual: \"{actual}\"')"
   ]
  }
 ],
 "metadata": {
  "kernelspec": {
   "display_name": "Python 3 (ipykernel)",
   "language": "python",
   "name": "python3"
  },
  "language_info": {
   "codemirror_mode": {
    "name": "ipython",
    "version": 3
   },
   "file_extension": ".py",
   "mimetype": "text/x-python",
   "name": "python",
   "nbconvert_exporter": "python",
   "pygments_lexer": "ipython3",
   "version": "3.8.12"
  }
 },
 "nbformat": 4,
 "nbformat_minor": 5
}
