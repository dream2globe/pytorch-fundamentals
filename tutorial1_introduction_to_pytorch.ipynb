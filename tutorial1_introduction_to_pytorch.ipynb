{
 "cells": [
  {
   "cell_type": "code",
   "execution_count": 1,
   "id": "f5d738f1-18b2-4d87-9702-877e1dd049cc",
   "metadata": {},
   "outputs": [],
   "source": [
    "import time\n",
    "\n",
    "import matplotlib.pyplot as plt\n",
    "import numpy as np\n",
    "import torch\n",
    "import torch.nn as nn\n",
    "import torch.utils.data as data\n",
    "\n",
    "%matplotlib inline\n",
    "from matplotlib_inline.backend_inline import set_matplotlib_formats\n",
    "from matplotlib.colors import to_rgba\n",
    "from tqdm.notebook import tqdm  # Progress bar\n",
    "\n",
    "set_matplotlib_formats(\"svg\", \"pdf\")"
   ]
  },
  {
   "cell_type": "markdown",
   "id": "7d8fe713-c4df-45e9-b818-72170d6d86f9",
   "metadata": {},
   "source": [
    "# The Basics of PyTorch"
   ]
  },
  {
   "cell_type": "code",
   "execution_count": 2,
   "id": "c5080072-a864-411a-874c-39f32e6bf953",
   "metadata": {},
   "outputs": [
    {
     "name": "stdout",
     "output_type": "stream",
     "text": [
      "Using torch 1.11.0\n"
     ]
    }
   ],
   "source": [
    "print(\"Using torch\", torch.__version__)"
   ]
  },
  {
   "cell_type": "markdown",
   "id": "0eb2d22c-cfae-47f7-9249-4b5e61410c2a",
   "metadata": {},
   "source": [
    "- 통계적 함수에서 재현 가능하도록 random seed를 고정할 수 있음"
   ]
  },
  {
   "cell_type": "code",
   "execution_count": 3,
   "id": "068af9e9-1237-4bb1-98bb-e79f581a540f",
   "metadata": {},
   "outputs": [
    {
     "data": {
      "text/plain": [
       "<torch._C.Generator at 0x7f5e10576f70>"
      ]
     },
     "execution_count": 3,
     "metadata": {},
     "output_type": "execute_result"
    }
   ],
   "source": [
    "torch.manual_seed(42)"
   ]
  },
  {
   "cell_type": "markdown",
   "id": "4f4269a0-5a01-41f4-a41e-7acb201ed1e4",
   "metadata": {
    "tags": []
   },
   "source": [
    "## Tensor\n",
    "### 초기화"
   ]
  },
  {
   "cell_type": "code",
   "execution_count": 4,
   "id": "7e95e1c0-33c8-49ea-82eb-c58bb32ca5bf",
   "metadata": {},
   "outputs": [
    {
     "name": "stdout",
     "output_type": "stream",
     "text": [
      "tensor([[[3.7661e-26, 4.5692e-41, 3.7661e-26, 4.5692e-41],\n",
      "         [       nan,        nan, 1.5835e-43, 0.0000e+00],\n",
      "         [3.7661e-26, 4.5692e-41, 3.7661e-26, 4.5692e-41]],\n",
      "\n",
      "        [[0.0000e+00, 0.0000e+00, 0.0000e+00, 0.0000e+00],\n",
      "         [0.0000e+00, 0.0000e+00, 0.0000e+00, 0.0000e+00],\n",
      "         [0.0000e+00, 0.0000e+00, 4.6243e-44, 0.0000e+00]]])\n"
     ]
    }
   ],
   "source": [
    "x = torch.Tensor(2, 3, 4)  # 메모리에 있는 값으로 초기화 됨\n",
    "print(x)"
   ]
  },
  {
   "cell_type": "markdown",
   "id": "c5414a10-ad3b-4839-b370-1ef5e470b3b9",
   "metadata": {},
   "source": [
    "\n",
    "\n",
    "- `torch.zeros`: 0으로 채움\n",
    "- `torch.ones`: 1로 채움\n",
    "- `torch.rand`: 0과 1 사이의 유니폼 분포 샘플로 채움\n",
    "- `torch.randn`: 평균 0, 표준편차 1의 정규분포 샘플로 채움\n",
    "- `torch.arange`: N, N+1, N+2, ..., M 값으로 채움\n",
    "- `torch.Tensor` (input list):  list의 요소 값으로 채움"
   ]
  },
  {
   "cell_type": "code",
   "execution_count": 6,
   "id": "eecf90db-ebc4-49a6-a0b4-23d5b081493f",
   "metadata": {},
   "outputs": [
    {
     "name": "stdout",
     "output_type": "stream",
     "text": [
      "tensor([[1., 2.],\n",
      "        [3., 4.]])\n"
     ]
    }
   ],
   "source": [
    "x = torch.Tensor([[1, 2], [3, 4]])\n",
    "print(x)"
   ]
  },
  {
   "cell_type": "code",
   "execution_count": 7,
   "id": "6a2234a3-8008-4f5b-89e4-4bfe8ecd3552",
   "metadata": {},
   "outputs": [
    {
     "name": "stdout",
     "output_type": "stream",
     "text": [
      "tensor([[[0.8823, 0.9150, 0.3829, 0.9593],\n",
      "         [0.3904, 0.6009, 0.2566, 0.7936],\n",
      "         [0.9408, 0.1332, 0.9346, 0.5936]],\n",
      "\n",
      "        [[0.8694, 0.5677, 0.7411, 0.4294],\n",
      "         [0.8854, 0.5739, 0.2666, 0.6274],\n",
      "         [0.2696, 0.4414, 0.2969, 0.8317]]])\n"
     ]
    }
   ],
   "source": [
    "x = torch.rand(2, 3, 4)\n",
    "print(x)"
   ]
  },
  {
   "cell_type": "markdown",
   "id": "861a5c2c-ee97-4295-8d49-fa1304ec584f",
   "metadata": {},
   "source": [
    "### Shape"
   ]
  },
  {
   "cell_type": "code",
   "execution_count": 8,
   "id": "f10b27d9-5280-445f-a3b0-8598006bec1f",
   "metadata": {},
   "outputs": [
    {
     "name": "stdout",
     "output_type": "stream",
     "text": [
      "Shape: torch.Size([2, 3, 4])\n",
      "Size: torch.Size([2, 3, 4])\n",
      "Size: 2 3 4\n"
     ]
    }
   ],
   "source": [
    "shape = x.shape\n",
    "print(\"Shape:\", x.shape)\n",
    "\n",
    "size = x.size()\n",
    "print(\"Size:\", size)\n",
    "\n",
    "dim1, dim2, dim3 = x.size()\n",
    "print(\"Size:\", dim1, dim2, dim3)"
   ]
  },
  {
   "cell_type": "markdown",
   "id": "89a2d0f9-d802-4c26-a1c8-5ccb7b69cebe",
   "metadata": {},
   "source": [
    "### Tensor to Numpy, and Numpy to Tensor"
   ]
  },
  {
   "cell_type": "code",
   "execution_count": 9,
   "id": "5a5d81ed-bbb8-4980-9261-e85959d9947f",
   "metadata": {},
   "outputs": [
    {
     "name": "stdout",
     "output_type": "stream",
     "text": [
      "Numpy array: [[1 2]\n",
      " [3 4]]\n",
      "PyTorch tensor: tensor([[1, 2],\n",
      "        [3, 4]])\n"
     ]
    }
   ],
   "source": [
    "np_arr = np.array([[1, 2], [3, 4]])\n",
    "tensor = torch.from_numpy(np_arr)\n",
    "\n",
    "print(\"Numpy array:\", np_arr)\n",
    "print(\"PyTorch tensor:\", tensor)"
   ]
  },
  {
   "cell_type": "code",
   "execution_count": 10,
   "id": "b667074f-1bc3-46bc-841f-c11e2c9280b9",
   "metadata": {},
   "outputs": [
    {
     "name": "stdout",
     "output_type": "stream",
     "text": [
      "PyTorch tensor: tensor([0, 1, 2, 3])\n",
      "Numpy array: [0 1 2 3]\n"
     ]
    }
   ],
   "source": [
    "tensor = torch.arange(4)\n",
    "np_arr = tensor.numpy()\n",
    "\n",
    "print(\"PyTorch tensor:\", tensor)\n",
    "print(\"Numpy array:\", np_arr)"
   ]
  },
  {
   "cell_type": "code",
   "execution_count": 13,
   "id": "94625c6c-96b5-46c4-a1fe-ce872b0e60f5",
   "metadata": {},
   "outputs": [
    {
     "name": "stdout",
     "output_type": "stream",
     "text": [
      "PyTorch tensor: tensor([0, 1, 2, 3])\n",
      "Numpy array: [0 1 2 3]\n"
     ]
    }
   ],
   "source": [
    "tensor = torch.arange(4)\n",
    "np_arr = tensor.cpu().numpy()\n",
    "\n",
    "print(\"PyTorch tensor:\", tensor)  # CPU\n",
    "print(\"Numpy array:\", np_arr)"
   ]
  },
  {
   "cell_type": "markdown",
   "id": "3a596dbe-0f3f-4e3e-aa02-7c5e6dcd155a",
   "metadata": {},
   "source": [
    "### Operations\n",
    "- numpy에 있는 연산자는 대부분 pytorch에도 포함. 모든 리스트는 [PyTorch documentation](https://pytorch.org/docs/stable/tensors.html#) 에서 확인할 수 있음"
   ]
  },
  {
   "cell_type": "code",
   "execution_count": 14,
   "id": "b660c46f-ce5c-4253-ac1b-3e7845054569",
   "metadata": {},
   "outputs": [
    {
     "name": "stdout",
     "output_type": "stream",
     "text": [
      "X1 tensor([[0.1053, 0.2695, 0.3588],\n",
      "        [0.1994, 0.5472, 0.0062]])\n",
      "X2 tensor([[0.9516, 0.0753, 0.8860],\n",
      "        [0.5832, 0.3376, 0.8090]])\n",
      "Y tensor([[1.0569, 0.3448, 1.2448],\n",
      "        [0.7826, 0.8848, 0.8151]])\n"
     ]
    }
   ],
   "source": [
    "x1 = torch.rand(2, 3)\n",
    "x2 = torch.rand(2, 3)\n",
    "y = x1 + x2\n",
    "\n",
    "print(\"X1\", x1)\n",
    "print(\"X2\", x2)\n",
    "print(\"Y\", y)"
   ]
  },
  {
   "cell_type": "markdown",
   "id": "d38b9137-6064-413c-9690-536d773e7805",
   "metadata": {},
   "source": [
    "- In-place operations "
   ]
  },
  {
   "cell_type": "code",
   "execution_count": 19,
   "id": "edb7916f-a13a-4572-9102-154ccbd18b89",
   "metadata": {},
   "outputs": [
    {
     "name": "stdout",
     "output_type": "stream",
     "text": [
      "X1 (before) tensor([[0.7539, 0.1952, 0.0050],\n",
      "        [0.3068, 0.1165, 0.9103]])\n",
      "X2 (before) tensor([[0.6440, 0.7071, 0.6581],\n",
      "        [0.4913, 0.8913, 0.1447]])\n",
      "X1 (after) tensor([[0.7539, 0.1952, 0.0050],\n",
      "        [0.3068, 0.1165, 0.9103]])\n",
      "X2 (after) tensor([[1.3979, 0.9024, 0.6632],\n",
      "        [0.7981, 1.0078, 1.0550]])\n"
     ]
    }
   ],
   "source": [
    "x1 = torch.rand(2, 3)\n",
    "x2 = torch.rand(2, 3)\n",
    "print(\"X1 (before)\", x1)\n",
    "print(\"X2 (before)\", x2)\n",
    "\n",
    "x2.add_(x1)  # In-place operations \n",
    "print(\"X1 (after)\", x1)\n",
    "print(\"X2 (after)\", x2)"
   ]
  },
  {
   "cell_type": "markdown",
   "id": "bcafdac3-1e8b-4a81-98b5-5411cff97830",
   "metadata": {},
   "source": [
    "- dimension 조절하기"
   ]
  },
  {
   "cell_type": "code",
   "execution_count": 16,
   "id": "4bb0f1e3-dbb9-4282-83a8-e8936b78baa1",
   "metadata": {},
   "outputs": [
    {
     "name": "stdout",
     "output_type": "stream",
     "text": [
      "X tensor([0, 1, 2, 3, 4, 5])\n"
     ]
    }
   ],
   "source": [
    "x = torch.arange(6)\n",
    "print(\"X\", x)"
   ]
  },
  {
   "cell_type": "code",
   "execution_count": 17,
   "id": "822e4281-71b8-4042-86cf-8ff92963f8ed",
   "metadata": {},
   "outputs": [
    {
     "name": "stdout",
     "output_type": "stream",
     "text": [
      "X tensor([[0, 1, 2],\n",
      "        [3, 4, 5]])\n"
     ]
    }
   ],
   "source": [
    "x = x.view(2, 3)  # Changing dimension\n",
    "print(\"X\", x)"
   ]
  },
  {
   "cell_type": "code",
   "execution_count": 18,
   "id": "481c918e-2164-4088-96ef-f4d2b2b3c6ab",
   "metadata": {},
   "outputs": [
    {
     "name": "stdout",
     "output_type": "stream",
     "text": [
      "X tensor([[0, 3],\n",
      "        [1, 4],\n",
      "        [2, 5]])\n"
     ]
    }
   ],
   "source": [
    "x = x.permute(1, 0)  # Swapping dimension 0 and 1\n",
    "print(\"X\", x)"
   ]
  },
  {
   "cell_type": "markdown",
   "id": "3e687be5-399f-4866-a75f-a872a4efa7fb",
   "metadata": {},
   "source": [
    "#### 행렬을 곱하는 다양한 방법\n",
    "- `torch.matmul`: 두 텐서의 행렬 곱을 수행하며 차원에 따라 동작이 달라짐, 2차원 텐서 간의 곱인 경우 표준 행렬 곱과 같음. 더 높은 차원의 곱을 위해서 [브로드캐스팅](https://pytorch.org/docs/stable/generated/torch.matmul.html?highlight=matmul#torch.matmul)을 지원하며, numpy와 같이 a@b로 표현할 수도 있음 \n",
    "- `torch.mm`: 행렬 곱을 수행하지만 브로드캐스팅을 지원하지는 않음\n",
    "- `torch.bmm`: 3차원 텐서를 입력값으로 받으며 3차원 내 2차원 tensor 간의 곱을 batch 식으로 연산함. $(b \\times n \\times m)$ tensor @ $(b \\times m \\times p)$ tensor = $(b \\times n \\times p)$ tensor [(document)](https://pytorch.org/docs/stable/generated/torch.bmm.html?highlight=torch%20bmm#torch.bmm)\n",
    "- `torch.einsum`: Einstein summation convention"
   ]
  },
  {
   "cell_type": "code",
   "execution_count": 22,
   "id": "1a63e43e-68e3-4a9d-8b0e-c49cd42f25b3",
   "metadata": {},
   "outputs": [
    {
     "name": "stdout",
     "output_type": "stream",
     "text": [
      "X tensor([[0, 1, 2],\n",
      "        [3, 4, 5]])\n"
     ]
    }
   ],
   "source": [
    "x = torch.arange(6)\n",
    "x = x.view(2, 3)\n",
    "print(\"X\", x)"
   ]
  },
  {
   "cell_type": "code",
   "execution_count": 23,
   "id": "6ba0bad5-8784-421f-85b0-430347f5eb00",
   "metadata": {},
   "outputs": [
    {
     "name": "stdout",
     "output_type": "stream",
     "text": [
      "W tensor([[0, 1, 2],\n",
      "        [3, 4, 5],\n",
      "        [6, 7, 8]])\n"
     ]
    }
   ],
   "source": [
    "W = torch.arange(9).view(3, 3)\n",
    "print(\"W\", W)"
   ]
  },
  {
   "cell_type": "code",
   "execution_count": 24,
   "id": "31de0ed4-1c29-46ca-937b-2793ef2a3c36",
   "metadata": {},
   "outputs": [
    {
     "name": "stdout",
     "output_type": "stream",
     "text": [
      "h tensor([[15, 18, 21],\n",
      "        [42, 54, 66]])\n"
     ]
    }
   ],
   "source": [
    "h = torch.matmul(x, W)\n",
    "print(\"h\", h)"
   ]
  },
  {
   "cell_type": "markdown",
   "id": "450e3ae8-9c70-4c1c-892e-313db08cd0ad",
   "metadata": {},
   "source": [
    "### Dynamic Computation Graph and Backpropagation\n",
    "\n",
    "생성된 텐서의 기본값은 gradients를 지원하지 않으나, `requires_grad_()` 함수를 사용하여 바꾸거나 생성할 때 `requires_grad=True` 옵션을 설정하여 gradients 지원하게 할 수 있음"
   ]
  },
  {
   "cell_type": "code",
   "execution_count": 25,
   "id": "88aa407b-0f7e-4d70-90e9-696231e7be21",
   "metadata": {},
   "outputs": [
    {
     "name": "stdout",
     "output_type": "stream",
     "text": [
      "False\n"
     ]
    }
   ],
   "source": [
    "x = torch.ones((3,))\n",
    "print(x.requires_grad)"
   ]
  },
  {
   "cell_type": "code",
   "execution_count": 26,
   "id": "f938b67c-2df8-4710-bd91-cab37646147d",
   "metadata": {},
   "outputs": [
    {
     "name": "stdout",
     "output_type": "stream",
     "text": [
      "True\n"
     ]
    }
   ],
   "source": [
    "x.requires_grad_(True)\n",
    "print(x.requires_grad)"
   ]
  },
  {
   "cell_type": "markdown",
   "id": "0b481c90-2145-4acb-a4aa-c4b4f44d967a",
   "metadata": {},
   "source": [
    "$$ y = \\frac{1}{|x|}\\sum_i \\left[(x_i + 2)^2 + 3\\right] $$\n",
    "위 함수에서 y 값의 최대 혹은 최소 값을 구해야한다면 x를 파라미터로 생각할 수 있음. 이 경우 gradient $ \\partial y / \\partial \\mathbf{x} $ 을 얻어야 하며 아래는 입력 값으로 \\mathbf{x}=[0,1,2] 를 가정하겠음"
   ]
  },
  {
   "cell_type": "code",
   "execution_count": 31,
   "id": "42ffa950-7c75-4e2d-9d47-4fdb7f07991a",
   "metadata": {},
   "outputs": [
    {
     "name": "stdout",
     "output_type": "stream",
     "text": [
      "X tensor([0., 1., 2.], requires_grad=True)\n"
     ]
    }
   ],
   "source": [
    "x = torch.arange(3, dtype=torch.float32, requires_grad=True)\n",
    "print(\"X\", x)"
   ]
  },
  {
   "cell_type": "code",
   "execution_count": 32,
   "id": "42e49fa9-84c5-4a55-9ad2-52937c303427",
   "metadata": {},
   "outputs": [
    {
     "name": "stdout",
     "output_type": "stream",
     "text": [
      "Y tensor(12.6667, grad_fn=<MeanBackward0>)\n"
     ]
    }
   ],
   "source": [
    "a = x + 2\n",
    "b = a ** 2\n",
    "c = b + 3\n",
    "y = c.mean()\n",
    "print(\"Y\", y)"
   ]
  }
 ],
 "metadata": {
  "kernelspec": {
   "display_name": "Python 3 (ipykernel)",
   "language": "python",
   "name": "python3"
  },
  "language_info": {
   "codemirror_mode": {
    "name": "ipython",
    "version": 3
   },
   "file_extension": ".py",
   "mimetype": "text/x-python",
   "name": "python",
   "nbconvert_exporter": "python",
   "pygments_lexer": "ipython3",
   "version": "3.8.12"
  }
 },
 "nbformat": 4,
 "nbformat_minor": 5
}
