{
 "cells": [
  {
   "cell_type": "markdown",
   "id": "stretch-calculation",
   "metadata": {},
   "source": [
    "# What are Tensors?"
   ]
  },
  {
   "cell_type": "markdown",
   "id": "ultimate-stranger",
   "metadata": {},
   "source": [
    "## Tensors"
   ]
  },
  {
   "cell_type": "markdown",
   "id": "intellectual-component",
   "metadata": {},
   "source": [
    "- GPU accelerators를 사용할 수 있는 점을 제외하고 numpy의 ndarrays와 유사함\n",
    "- 사실, tensors와 Numpy arrays는 종종 같은 메모리를 공유하기도 함\n",
    "- 자동 미분을 최적화하는 기능이 있음"
   ]
  },
  {
   "cell_type": "code",
   "execution_count": 1,
   "id": "outer-speaker",
   "metadata": {},
   "outputs": [],
   "source": [
    "import torch\n",
    "import numpy as np"
   ]
  },
  {
   "cell_type": "markdown",
   "id": "continued-communication",
   "metadata": {},
   "source": [
    "## Initializing a Tensor\n",
    "\n",
    "### Directly from data\n",
    "- 데이터 형은 자동으로 추론됨"
   ]
  },
  {
   "cell_type": "code",
   "execution_count": 2,
   "id": "shaped-thompson",
   "metadata": {},
   "outputs": [
    {
     "data": {
      "text/plain": [
       "tensor([[1, 2],\n",
       "        [3, 4]])"
      ]
     },
     "execution_count": 2,
     "metadata": {},
     "output_type": "execute_result"
    }
   ],
   "source": [
    "data = [[1, 2], [3, 4]]\n",
    "x_data = torch.tensor(data)\n",
    "x_data"
   ]
  },
  {
   "cell_type": "markdown",
   "id": "threaded-subdivision",
   "metadata": {},
   "source": [
    "### NumPy array"
   ]
  },
  {
   "cell_type": "code",
   "execution_count": 3,
   "id": "impaired-paper",
   "metadata": {},
   "outputs": [
    {
     "data": {
      "text/plain": [
       "tensor([[1, 2],\n",
       "        [3, 4]])"
      ]
     },
     "execution_count": 3,
     "metadata": {},
     "output_type": "execute_result"
    }
   ],
   "source": [
    "np_array = np.array(data)\n",
    "x_np = torch.from_numpy(np_array)\n",
    "x_np"
   ]
  },
  {
   "cell_type": "markdown",
   "id": "quick-terrace",
   "metadata": {},
   "source": [
    "### From another tensor\n",
    "- 기존 tensor의 properties(shape, data type) 정보를 활용할 수 있음"
   ]
  },
  {
   "cell_type": "code",
   "execution_count": 4,
   "id": "continuous-pregnancy",
   "metadata": {},
   "outputs": [
    {
     "name": "stdout",
     "output_type": "stream",
     "text": [
      "tensor([[1, 1],\n",
      "        [1, 1]])\n",
      "tensor([[0.3524, 0.7619],\n",
      "        [0.5994, 0.9592]])\n"
     ]
    }
   ],
   "source": [
    "x_ones = torch.ones_like(x_data)\n",
    "print(x_ones)\n",
    "\n",
    "x_rand = torch.rand_like(x_data, dtype=torch.float)\n",
    "print(x_rand)"
   ]
  },
  {
   "cell_type": "markdown",
   "id": "strategic-failing",
   "metadata": {},
   "source": [
    "### with random or constant values"
   ]
  },
  {
   "cell_type": "code",
   "execution_count": 5,
   "id": "horizontal-wednesday",
   "metadata": {},
   "outputs": [
    {
     "name": "stdout",
     "output_type": "stream",
     "text": [
      "tensor([[0.7674, 0.0508, 0.2153],\n",
      "        [0.4521, 0.8009, 0.5083]])\n",
      "tensor([[1., 1., 1.],\n",
      "        [1., 1., 1.]])\n",
      "tensor([[0., 0., 0.],\n",
      "        [0., 0., 0.]])\n"
     ]
    }
   ],
   "source": [
    "shape = (2, 3,)\n",
    "rand_tensor = torch.rand(shape)\n",
    "ones_tensor = torch.ones(shape)\n",
    "zeros_tensor = torch.zeros(shape)\n",
    "\n",
    "print(rand_tensor)\n",
    "print(ones_tensor)\n",
    "print(zeros_tensor)"
   ]
  },
  {
   "cell_type": "markdown",
   "id": "happy-resolution",
   "metadata": {},
   "source": [
    "## Attributes of a Tensor\n",
    "- Tensor의 attribute은 shape, data type, and 저장된 장치를 표현함"
   ]
  },
  {
   "cell_type": "code",
   "execution_count": 6,
   "id": "utility-notion",
   "metadata": {},
   "outputs": [
    {
     "name": "stdout",
     "output_type": "stream",
     "text": [
      "torch.Size([3, 4])\n",
      "torch.float32\n",
      "cpu\n"
     ]
    }
   ],
   "source": [
    "tensor = torch.rand(3, 4)\n",
    "\n",
    "print(tensor.shape)\n",
    "print(tensor.dtype)\n",
    "print(tensor.device)"
   ]
  },
  {
   "cell_type": "markdown",
   "id": "fitted-october",
   "metadata": {},
   "source": [
    "## Operations on Tensors\n",
    "- 100개 이상의 Tensor operation은 https://pytorch.org/docs/stable/torch.html 에서 확인 가능\n",
    "- 각 operation은 GPU를 활용할 수 있으며 일반적으로 GPU의 연산이 더욱 빠름\n",
    "- Tensor는 기본적으로 CPU을 사용하도록 생성되므로 `.to` 함수를 사용하여 명시적으로 GPU로 옮겨야 함"
   ]
  },
  {
   "cell_type": "code",
   "execution_count": 7,
   "id": "parliamentary-candle",
   "metadata": {},
   "outputs": [],
   "source": [
    "if torch.cuda.is_available():\n",
    "    tensor = tensor.to(\"cuda\")"
   ]
  },
  {
   "cell_type": "markdown",
   "id": "streaming-nature",
   "metadata": {},
   "source": [
    "### Standard numpy-like indexing and slicing"
   ]
  },
  {
   "cell_type": "code",
   "execution_count": 8,
   "id": "uniform-haven",
   "metadata": {},
   "outputs": [
    {
     "name": "stdout",
     "output_type": "stream",
     "text": [
      "First row:  tensor([0.5050, 0.8888, 0.3814, 0.5825])\n",
      "First column:  tensor([0.5050, 0.6953, 0.0347, 0.3831])\n",
      "Last column:  tensor([0.5825, 0.4344, 0.4942, 0.3436])\n",
      "tensor([[0.5050, 0.0000, 0.0347, 0.3831],\n",
      "        [0.8888, 0.0000, 0.9039, 0.1892],\n",
      "        [0.3814, 0.0000, 0.5761, 0.0228],\n",
      "        [0.5825, 0.0000, 0.4942, 0.3436]])\n"
     ]
    }
   ],
   "source": [
    "tensor = torch.rand(4, 4)\n",
    "print(\"First row: \", tensor[:, 0])\n",
    "print(\"First column: \", tensor[0, :])\n",
    "print(\"Last column: \", tensor[-1, :])\n",
    "\n",
    "tensor[:, 1] = 0\n",
    "print(tensor)"
   ]
  },
  {
   "cell_type": "markdown",
   "id": "forced-desktop",
   "metadata": {},
   "source": [
    "### Joining tensors\n",
    "- torch.cat: 차원이 증가하지 않음\n",
    "- torch.stack: 차원이 증가하면서 결합됨. `unsqueeze(0)` + `cat` 효과"
   ]
  },
  {
   "cell_type": "code",
   "execution_count": 9,
   "id": "seventh-planning",
   "metadata": {},
   "outputs": [
    {
     "name": "stdout",
     "output_type": "stream",
     "text": [
      "tensor([[0.5050, 0.0000, 0.0347, 0.3831],\n",
      "        [0.8888, 0.0000, 0.9039, 0.1892],\n",
      "        [0.3814, 0.0000, 0.5761, 0.0228],\n",
      "        [0.5825, 0.0000, 0.4942, 0.3436],\n",
      "        [0.5050, 0.0000, 0.0347, 0.3831],\n",
      "        [0.8888, 0.0000, 0.9039, 0.1892],\n",
      "        [0.3814, 0.0000, 0.5761, 0.0228],\n",
      "        [0.5825, 0.0000, 0.4942, 0.3436],\n",
      "        [0.5050, 0.0000, 0.0347, 0.3831],\n",
      "        [0.8888, 0.0000, 0.9039, 0.1892],\n",
      "        [0.3814, 0.0000, 0.5761, 0.0228],\n",
      "        [0.5825, 0.0000, 0.4942, 0.3436]])\n"
     ]
    }
   ],
   "source": [
    "t1 = torch.cat([tensor, tensor, tensor], dim=0) # row-wide\n",
    "print(t1)"
   ]
  },
  {
   "cell_type": "code",
   "execution_count": 10,
   "id": "palestinian-thousand",
   "metadata": {},
   "outputs": [
    {
     "name": "stdout",
     "output_type": "stream",
     "text": [
      "tensor([[0.5050, 0.0000, 0.0347, 0.3831, 0.5050, 0.0000, 0.0347, 0.3831, 0.5050,\n",
      "         0.0000, 0.0347, 0.3831],\n",
      "        [0.8888, 0.0000, 0.9039, 0.1892, 0.8888, 0.0000, 0.9039, 0.1892, 0.8888,\n",
      "         0.0000, 0.9039, 0.1892],\n",
      "        [0.3814, 0.0000, 0.5761, 0.0228, 0.3814, 0.0000, 0.5761, 0.0228, 0.3814,\n",
      "         0.0000, 0.5761, 0.0228],\n",
      "        [0.5825, 0.0000, 0.4942, 0.3436, 0.5825, 0.0000, 0.4942, 0.3436, 0.5825,\n",
      "         0.0000, 0.4942, 0.3436]])\n"
     ]
    }
   ],
   "source": [
    "t2 = torch.cat([tensor, tensor, tensor], dim=1) # column-wide\n",
    "print(t2)"
   ]
  },
  {
   "cell_type": "code",
   "execution_count": 11,
   "id": "completed-watson",
   "metadata": {},
   "outputs": [
    {
     "name": "stdout",
     "output_type": "stream",
     "text": [
      "tensor([[[0.5050, 0.0000, 0.0347, 0.3831],\n",
      "         [0.8888, 0.0000, 0.9039, 0.1892],\n",
      "         [0.3814, 0.0000, 0.5761, 0.0228],\n",
      "         [0.5825, 0.0000, 0.4942, 0.3436]],\n",
      "\n",
      "        [[0.5050, 0.0000, 0.0347, 0.3831],\n",
      "         [0.8888, 0.0000, 0.9039, 0.1892],\n",
      "         [0.3814, 0.0000, 0.5761, 0.0228],\n",
      "         [0.5825, 0.0000, 0.4942, 0.3436]],\n",
      "\n",
      "        [[0.5050, 0.0000, 0.0347, 0.3831],\n",
      "         [0.8888, 0.0000, 0.9039, 0.1892],\n",
      "         [0.3814, 0.0000, 0.5761, 0.0228],\n",
      "         [0.5825, 0.0000, 0.4942, 0.3436]]])\n"
     ]
    }
   ],
   "source": [
    "t3 = torch.stack([tensor, tensor, tensor], dim=0) # dim=0\n",
    "print(t3)"
   ]
  },
  {
   "cell_type": "code",
   "execution_count": 12,
   "id": "organized-freeze",
   "metadata": {},
   "outputs": [
    {
     "name": "stdout",
     "output_type": "stream",
     "text": [
      "tensor([[[True, True, True, True],\n",
      "         [True, True, True, True],\n",
      "         [True, True, True, True],\n",
      "         [True, True, True, True]],\n",
      "\n",
      "        [[True, True, True, True],\n",
      "         [True, True, True, True],\n",
      "         [True, True, True, True],\n",
      "         [True, True, True, True]],\n",
      "\n",
      "        [[True, True, True, True],\n",
      "         [True, True, True, True],\n",
      "         [True, True, True, True],\n",
      "         [True, True, True, True]]])\n"
     ]
    }
   ],
   "source": [
    "t4 = torch.cat([tensor.unsqueeze(0), tensor.unsqueeze(0), tensor.unsqueeze(0)], dim=0)\n",
    "print(t3 == t4)"
   ]
  },
  {
   "cell_type": "code",
   "execution_count": 13,
   "id": "subject-cross",
   "metadata": {},
   "outputs": [
    {
     "name": "stdout",
     "output_type": "stream",
     "text": [
      "tensor([[[0.5050, 0.0000, 0.0347, 0.3831],\n",
      "         [0.5050, 0.0000, 0.0347, 0.3831],\n",
      "         [0.5050, 0.0000, 0.0347, 0.3831]],\n",
      "\n",
      "        [[0.8888, 0.0000, 0.9039, 0.1892],\n",
      "         [0.8888, 0.0000, 0.9039, 0.1892],\n",
      "         [0.8888, 0.0000, 0.9039, 0.1892]],\n",
      "\n",
      "        [[0.3814, 0.0000, 0.5761, 0.0228],\n",
      "         [0.3814, 0.0000, 0.5761, 0.0228],\n",
      "         [0.3814, 0.0000, 0.5761, 0.0228]],\n",
      "\n",
      "        [[0.5825, 0.0000, 0.4942, 0.3436],\n",
      "         [0.5825, 0.0000, 0.4942, 0.3436],\n",
      "         [0.5825, 0.0000, 0.4942, 0.3436]]])\n"
     ]
    }
   ],
   "source": [
    "t5 = torch.stack([tensor, tensor, tensor], dim=1) # dim=1\n",
    "print(t5)"
   ]
  },
  {
   "cell_type": "markdown",
   "id": "weekly-theme",
   "metadata": {},
   "source": [
    "## Arithmetic operations"
   ]
  },
  {
   "cell_type": "code",
   "execution_count": 14,
   "id": "comparative-eligibility",
   "metadata": {},
   "outputs": [
    {
     "data": {
      "text/plain": [
       "tensor([[0.4030, 0.5527, 0.2213, 0.4430],\n",
       "        [0.5527, 1.6429, 0.8640, 1.0295],\n",
       "        [0.2213, 0.8640, 0.4778, 0.5147],\n",
       "        [0.4430, 1.0295, 0.5147, 0.7016]])"
      ]
     },
     "execution_count": 14,
     "metadata": {},
     "output_type": "execute_result"
    }
   ],
   "source": [
    "# 행렬 곱\n",
    "y1 = tensor @ tensor.T\n",
    "y2 = tensor.matmul(tensor.T)\n",
    "\n",
    "y3 = torch.rand_like(tensor)\n",
    "torch.matmul(tensor, tensor.T, out=y3)"
   ]
  },
  {
   "cell_type": "code",
   "execution_count": 15,
   "id": "micro-address",
   "metadata": {},
   "outputs": [
    {
     "data": {
      "text/plain": [
       "tensor([[True, True, True, True],\n",
       "        [True, True, True, True],\n",
       "        [True, True, True, True],\n",
       "        [True, True, True, True]])"
      ]
     },
     "execution_count": 15,
     "metadata": {},
     "output_type": "execute_result"
    }
   ],
   "source": [
    "(y1 == y2) & (y1 == y3)"
   ]
  },
  {
   "cell_type": "code",
   "execution_count": 16,
   "id": "indirect-baptist",
   "metadata": {},
   "outputs": [
    {
     "data": {
      "text/plain": [
       "tensor([[0.2551, 0.0000, 0.0132, 0.2231],\n",
       "        [0.0000, 0.0000, 0.0000, 0.0000],\n",
       "        [0.0132, 0.0000, 0.3319, 0.0113],\n",
       "        [0.2231, 0.0000, 0.0113, 0.1180]])"
      ]
     },
     "execution_count": 16,
     "metadata": {},
     "output_type": "execute_result"
    }
   ],
   "source": [
    "# element-wise product\n",
    "z1 = tensor * tensor.T\n",
    "z2 = tensor.mul(tensor.T)\n",
    "\n",
    "z3 = torch.rand_like(tensor)\n",
    "torch.mul(tensor, tensor.T, out=z3)"
   ]
  },
  {
   "cell_type": "code",
   "execution_count": 17,
   "id": "ignored-soviet",
   "metadata": {},
   "outputs": [
    {
     "data": {
      "text/plain": [
       "tensor([[True, True, True, True],\n",
       "        [True, True, True, True],\n",
       "        [True, True, True, True],\n",
       "        [True, True, True, True]])"
      ]
     },
     "execution_count": 17,
     "metadata": {},
     "output_type": "execute_result"
    }
   ],
   "source": [
    "(z1 == z2) & (z1 == z3)"
   ]
  },
  {
   "cell_type": "markdown",
   "id": "static-viewer",
   "metadata": {},
   "source": [
    "### Single-element tensors\n",
    "아래 예제와 같이 모든 Tensor의 값이 하나로 합쳐지는 경우, `item()` 함수를 사용하여 Python 숫자형 값으로 젼환 가능"
   ]
  },
  {
   "cell_type": "code",
   "execution_count": 18,
   "id": "working-wisdom",
   "metadata": {},
   "outputs": [
    {
     "name": "stdout",
     "output_type": "stream",
     "text": [
      "5.305268287658691 <class 'float'>\n"
     ]
    }
   ],
   "source": [
    "agg = tensor.sum()\n",
    "agg_item = agg.item()\n",
    "print(agg_item, type(agg_item))"
   ]
  },
  {
   "cell_type": "markdown",
   "id": "hazardous-violin",
   "metadata": {},
   "source": [
    "### In-plale operations\n",
    "- 피연산자에 결과를 저장하는 함수를 의미하며, `_` suffix로 표현됨\n",
    "- 예를 들어 `x.copy_()`, `x.t_()`는 x를 변경함"
   ]
  },
  {
   "cell_type": "markdown",
   "id": "cordless-calendar",
   "metadata": {},
   "source": [
    "> **Note:** 메모리를 절약할 수는 있지만 즉시 연산 히스토리가 사라지기 때문에 주의해서 사용 필요"
   ]
  },
  {
   "cell_type": "markdown",
   "id": "brazilian-portfolio",
   "metadata": {},
   "source": [
    "## Bridge with NumPy\n",
    "CPU Tensor와 NumPy array는 메모리를 공유할 수 있음\n",
    " \n",
    "### Tensor to NumPy array"
   ]
  },
  {
   "cell_type": "code",
   "execution_count": 19,
   "id": "mature-singapore",
   "metadata": {},
   "outputs": [
    {
     "name": "stdout",
     "output_type": "stream",
     "text": [
      "t: tensor([1., 1., 1., 1., 1.])\n",
      "n: [1. 1. 1. 1. 1.]\n"
     ]
    }
   ],
   "source": [
    "t = torch.ones(5)\n",
    "print(f\"t: {t}\")\n",
    "n = t.numpy()\n",
    "print(f\"n: {n}\")"
   ]
  },
  {
   "cell_type": "code",
   "execution_count": 20,
   "id": "excess-outdoors",
   "metadata": {},
   "outputs": [
    {
     "name": "stdout",
     "output_type": "stream",
     "text": [
      "t: tensor([2., 2., 2., 2., 2.])\n",
      "n: [2. 2. 2. 2. 2.]\n"
     ]
    }
   ],
   "source": [
    "t.add_(1)\n",
    "print(f\"t: {t}\")\n",
    "print(f\"n: {n}\")"
   ]
  },
  {
   "cell_type": "markdown",
   "id": "serious-suspension",
   "metadata": {},
   "source": [
    "### NumPy array to Tensor"
   ]
  },
  {
   "cell_type": "code",
   "execution_count": 21,
   "id": "adapted-librarian",
   "metadata": {},
   "outputs": [],
   "source": [
    "n = np.ones(5)\n",
    "t = torch.from_numpy(n)"
   ]
  },
  {
   "cell_type": "code",
   "execution_count": 22,
   "id": "surprising-pierre",
   "metadata": {},
   "outputs": [
    {
     "name": "stdout",
     "output_type": "stream",
     "text": [
      "t: tensor([2., 2., 2., 2., 2.], dtype=torch.float64)\n",
      "n: [2. 2. 2. 2. 2.]\n"
     ]
    }
   ],
   "source": [
    "np.add(n, 1, out=n)\n",
    "print(f\"t: {t}\")\n",
    "print(f\"n: {n}\")"
   ]
  },
  {
   "cell_type": "markdown",
   "id": "coordinated-cleaner",
   "metadata": {},
   "source": [
    "# Load data with PyTorch Datasets and DataLoaders"
   ]
  },
  {
   "cell_type": "code",
   "execution_count": 23,
   "id": "demographic-trout",
   "metadata": {},
   "outputs": [],
   "source": [
    "%matplotlib inline"
   ]
  },
  {
   "cell_type": "markdown",
   "id": "brilliant-shark",
   "metadata": {},
   "source": [
    "## Datasets and Dataloaders\n",
    "- 좀 더 읽기 쉽고 모듈화하기 위해 모델 학습코드와 데이터셋 코드가 결합지 않기를 원했음\n",
    "- Pytorch는 두 가지 데이터 기본 기능을 제공\n",
    "    - `torch.utils.data.DataLoader`\n",
    "    - `torch.utils.data.Dataset`\n",
    "- `Dataset`은 데이터와 레이블을 저장하고 `DataLoader`는 iterable 객체처럼 쉽게 읽을 수 있도록`Dataset`을 감싸는 형태\n",
    "\n",
    "### Loading a dataset\n",
    "- TorchVision을 활용하여 [Fashion-MNIST](https://research.zalando.com/welcome/mission/research-projects/fashion-mnist/) 을 읽는 예제\n",
    "    - 60,000개의 학습 데이터와 10,000개의 테스트 데이터로 구성됨\n",
    "    - 28*28 grayscale image, 10 classes"
   ]
  },
  {
   "cell_type": "code",
   "execution_count": 24,
   "id": "stainless-explanation",
   "metadata": {},
   "outputs": [],
   "source": [
    "import torch\n",
    "from torch.utils.data import Dataset\n",
    "from torchvision import datasets\n",
    "from torchvision.transforms import ToTensor, Lambda\n",
    "import matplotlib.pyplot as plt\n",
    "\n",
    "training_data = datasets.FashionMNIST(\n",
    "    root=\"data\", # data path\n",
    "    train=True,\n",
    "    download=True, # root에 데이터가 없는 경우 다운받음\n",
    "    transform=ToTensor()\n",
    ")\n",
    "\n",
    "test_data = datasets.FashionMNIST(\n",
    "    root=\"data\",\n",
    "    train=False,\n",
    "    download=True,\n",
    "    transform=ToTensor()\n",
    ")"
   ]
  },
  {
   "cell_type": "markdown",
   "id": "minimal-concrete",
   "metadata": {},
   "source": [
    "### Iterating and Visualizing the Dataset"
   ]
  },
  {
   "cell_type": "code",
   "execution_count": 25,
   "id": "entertaining-chick",
   "metadata": {},
   "outputs": [
    {
     "data": {
      "image/png": "[encoded data removed]",
      "text/plain": [
       "<Figure size 576x576 with 9 Axes>"
      ]
     },
     "metadata": {
      "needs_background": "light"
     },
     "output_type": "display_data"
    }
   ],
   "source": [
    "labels_map = {\n",
    "    0: \"T-Shirt\",\n",
    "    1: \"Trouser\",\n",
    "    2: \"Pullover\",\n",
    "    3: \"Dress\",\n",
    "    4: \"Coat\",\n",
    "    5: \"Sandal\",\n",
    "    6: \"Shirt\",\n",
    "    7: \"Sneaker\",\n",
    "    8: \"Bag\",\n",
    "    9: \"Ankle Boot\",\n",
    "}\n",
    "figure = plt.figure(figsize=(8, 8))\n",
    "cols, rows = 3, 3\n",
    "for i in range(1, cols*rows+1):\n",
    "    sample_idx = torch.randint(len(training_data), size=(1,)).item()\n",
    "    img, label = training_data[sample_idx]\n",
    "    figure.add_subplot(rows, cols, i)\n",
    "    plt.title(labels_map[label])\n",
    "    plt.axis(\"off\")\n",
    "    plt.imshow(img.squeeze(), cmap=\"gray\")\n",
    "plt.show()"
   ]
  },
  {
   "cell_type": "markdown",
   "id": "fitting-merchant",
   "metadata": {},
   "source": [
    "## Creating a Custom Dataset for your files\n",
    "- `__init__`, `__len__`, and `__getitem__` 3가지 함수를 꼭 구현해 함\n",
    "    - `__init__`: images directory, annotation file, transforms 초기화\n",
    "    - `__dataset__`: sample 수를 반환\n",
    "    - `__getitem__`: `idx`에 해당하는 이미지와 레이블을 읽어서 반환\n",
    "- FashionMNIST dataset를 직접 호출하는 예제"
   ]
  },
  {
   "cell_type": "code",
   "execution_count": 26,
   "id": "greatest-procurement",
   "metadata": {},
   "outputs": [],
   "source": [
    "import os \n",
    "import pandas as pd \n",
    "import torchvision.io as tvio\n",
    "\n",
    "class CustomImageDataset(Dataset):\n",
    "    def __init__(self, annotation_file, img_dir, transform=None, target_transform=None):\n",
    "        self.img_labels = pd.read_csv(annotation_file)\n",
    "        self.img_dir = img_dir\n",
    "        self.transform = transform\n",
    "        self.target_transform = target_transform\n",
    "        \n",
    "    def __len__(self):\n",
    "        return len(self.img_labels)\n",
    "    \n",
    "    def __getitem__(self, idx):\n",
    "        img_path = os.path.join(self.img_dir, self.img_labels.iloc[idx, 0])\n",
    "        image = tvio.read_image(img_path)\n",
    "        label = self.img_labels.iloc[idx, 1]\n",
    "        if self.transform:\n",
    "            image = self.transform(image)\n",
    "        if self.target_transform:\n",
    "            label = self.transform\n",
    "        sample = {\"image\":image, \"label\":label}\n",
    "        return sample    "
   ]
  },
  {
   "cell_type": "markdown",
   "id": "searching-surgery",
   "metadata": {},
   "source": [
    "## Preparing your data for training with DataLoaders\n",
    "\n",
    "- `Dataset`은 한 번에 하나의 샘플을 반환함\n",
    "- 모델을 학습하는 동안 minibatch\"를 사용함 (모델의 과적합을 방지하기 위해 매 epoch바다 데이터의 순서를 변경함)\n",
    "- Python의 multiprocessing을 사용하면 속도를 개선할 수 있음\n",
    "- DataLoader는 손쉬운 API를 통해 이러한 복합성을 추상화한 iterable임"
   ]
  },
  {
   "cell_type": "code",
   "execution_count": 27,
   "id": "future-serial",
   "metadata": {},
   "outputs": [],
   "source": [
    "from torch.utils.data import DataLoader\n",
    "\n",
    "train_dataloader = DataLoader(training_data, batch_size=64, shuffle=True)\n",
    "test_dataloader = DataLoader(test_data, batch_size=64, shuffle=True)"
   ]
  },
  {
   "cell_type": "code",
   "execution_count": 28,
   "id": "thorough-religion",
   "metadata": {},
   "outputs": [
    {
     "name": "stdout",
     "output_type": "stream",
     "text": [
      "Feature batch shape: torch.Size([64, 1, 28, 28])\n",
      "Labels batch shape: torch.Size([64])\n"
     ]
    },
    {
     "data": {
      "image/png": "[encoded data removed]",
      "text/plain": [
       "<Figure size 432x288 with 1 Axes>"
      ]
     },
     "metadata": {
      "needs_background": "light"
     },
     "output_type": "display_data"
    },
    {
     "name": "stdout",
     "output_type": "stream",
     "text": [
      "Label: Bag\n"
     ]
    }
   ],
   "source": [
    "train_features, train_labels = next(iter(train_dataloader))\n",
    "print(f\"Feature batch shape: {train_features.size()}\")\n",
    "print(f\"Labels batch shape: {train_labels.size()}\")\n",
    "img = train_features[0].squeeze()\n",
    "label = train_labels[0]\n",
    "plt.imshow(img, cmap=\"gray\")\n",
    "plt.show()\n",
    "print(f\"Label: {labels_map[label.item()]}\")"
   ]
  },
  {
   "cell_type": "markdown",
   "id": "outstanding-cameroon",
   "metadata": {},
   "source": [
    "# Transform the data\n",
    "- 기계학습 알고리즘이 원하는 최종 처리된 형태의 데이터를 항상 얻을 수는 없기 때문에 학습에 알맞은 형태로 변환하는 경우가 많음\n",
    "- 모든 TrochVision dataset은 두 가지 Parameter(`transform`, `target_transform`)의 설정을 통해 [torchvision.transforms](https://pytorch.org/vision/stable/transforms.html)에서 제공하는 변환 함수를 사용할 수 있음 \n",
    "- FashonMNIST의 경우 PIL Image format으로 저장되어 있어 feature는 정규화된 tensor로, 레이블은 one-hot  encoded tensor의 변환이 필요함\n",
    "- 이를 위해 `ToTnesor`, `Lambda`를 사용할 예정임"
   ]
  },
  {
   "cell_type": "code",
   "execution_count": 29,
   "id": "approximate-warehouse",
   "metadata": {},
   "outputs": [],
   "source": [
    "from torchvision import datasets\n",
    "from torchvision.transforms import ToTensor, Lambda\n",
    "\n",
    "ds = datasets.FashionMNIST(\n",
    "    root=\"data\",\n",
    "    train=True,\n",
    "    download=True,\n",
    "    transform=ToTensor(),\n",
    "    target_transform=Lambda(lambda y: torch.zeros(10, dtype=torch.float).scatter_(0, torch.tensor(y), value=1))\n",
    ")"
   ]
  },
  {
   "cell_type": "markdown",
   "id": "alpine-islam",
   "metadata": {},
   "source": [
    "### ToTensor()\n",
    "[ToTensor](https://pytorch.org/vision/stable/transforms.html#torchvision.transforms.ToTensor)는 PIL image, Numpy ndarray를 `FloatTensor` 로 변환하며 [0., 1.] 구간의 값으로 스케일을 변경함\n",
    "### Lambda transforms\n",
    "사용자 정의 합수 적용 시에 사용하여 위의 예시에서는 정수값을 one-hot vector로 변환하는 사용자 합수를 대입하였음"
   ]
  },
  {
   "cell_type": "markdown",
   "id": "hydraulic-photography",
   "metadata": {},
   "source": [
    "# Building the model layers\n",
    "## Build a neural network\n",
    "- [torch.nn](https://pytorch.org/docs/stable/nn.html) 네임스페이스는 사용자 고유의 신경망을 구성할 수 있는 모든 블럭을 제공함\n",
    "- 신경망은 다른 모듈(층)으로 구성된 그 자체이며, 중쳡된 구조는 복잡한 신경망을 쉽게 관리하고 생성할 수 있도록 함"
   ]
  },
  {
   "cell_type": "code",
   "execution_count": 30,
   "id": "composed-naples",
   "metadata": {},
   "outputs": [],
   "source": [
    "import os\n",
    "import torch\n",
    "from torch import nn\n",
    "from torch.utils.data import DataLoader\n",
    "from torchvision import datasets, transforms"
   ]
  },
  {
   "cell_type": "markdown",
   "id": "right-bleeding",
   "metadata": {},
   "source": [
    "### Get a hardware device for training\n",
    "GPU를 활용한 하드웨어 가속이 가능한지 확인하고 불가능하다면 CPU로 진행"
   ]
  },
  {
   "cell_type": "code",
   "execution_count": 31,
   "id": "exciting-survivor",
   "metadata": {},
   "outputs": [
    {
     "name": "stdout",
     "output_type": "stream",
     "text": [
      "Using cuda device\n"
     ]
    }
   ],
   "source": [
    "device = 'cuda' if torch.cuda.is_available() else 'cpu'\n",
    "print('Using {} device'.format(device))"
   ]
  },
  {
   "cell_type": "markdown",
   "id": "russian-compression",
   "metadata": {},
   "source": [
    "### Define the class\n",
    "\n",
    "- `nn.module`을 사용해서 신경망을 정의하고 `__init__`에서 layer들을 초기화\n",
    "- 모든 `nn.module` subclass 구현은 `forward` 함수 안에서 입력 데이터에 동작"
   ]
  },
  {
   "cell_type": "code",
   "execution_count": 32,
   "id": "cutting-supply",
   "metadata": {},
   "outputs": [],
   "source": [
    "class NeuralNetwork(nn.Module):\n",
    "    def __init__(self):\n",
    "        super(NeuralNetwork, self).__init__()\n",
    "        self.flatten = nn.Flatten()\n",
    "        self.linear_relu_stack = nn.Sequential(\n",
    "            nn.Linear(28*28, 512),\n",
    "            nn.ReLU(),\n",
    "            nn.Linear(512, 512),\n",
    "            nn.ReLU(),\n",
    "            nn.Linear(512, 10),\n",
    "            nn.ReLU()\n",
    "        )\n",
    "        \n",
    "    def forward(self, x):\n",
    "        x = self.flatten(x)\n",
    "        logits = self.linear_relu_stack(x)\n",
    "        return logits"
   ]
  },
  {
   "cell_type": "markdown",
   "id": "ideal-given",
   "metadata": {},
   "source": [
    "`NeuralNetwork` 인스턴스를 만들고 장치와 구조를 출력함"
   ]
  },
  {
   "cell_type": "code",
   "execution_count": 33,
   "id": "arctic-ceremony",
   "metadata": {},
   "outputs": [
    {
     "name": "stdout",
     "output_type": "stream",
     "text": [
      "NeuralNetwork(\n",
      "  (flatten): Flatten(start_dim=1, end_dim=-1)\n",
      "  (linear_relu_stack): Sequential(\n",
      "    (0): Linear(in_features=784, out_features=512, bias=True)\n",
      "    (1): ReLU()\n",
      "    (2): Linear(in_features=512, out_features=512, bias=True)\n",
      "    (3): ReLU()\n",
      "    (4): Linear(in_features=512, out_features=10, bias=True)\n",
      "    (5): ReLU()\n",
      "  )\n",
      ")\n"
     ]
    }
   ],
   "source": [
    "model = NeuralNetwork().to(device)\n",
    "print(model)"
   ]
  },
  {
   "cell_type": "markdown",
   "id": "raising-queensland",
   "metadata": {},
   "source": [
    "- 모델을 사용하기 위해, 입력 데이터를 통과시켜야 하며, 모델의 `forward` 함수을 실행하면 됨\n",
    "- 모델에 전달하만 백그라운드 연산에 의해 `forward` 함수가 실행되며, 직접 호출해서는 안됨\n",
    "- 모델의 호출은 각 범주의 예측값을 담은 10 차원 tensor를 반환함. 이를 nn.Softmax에 통화시기면 예측의 확률밀도를 얻을 수 있음"
   ]
  },
  {
   "cell_type": "code",
   "execution_count": 34,
   "id": "incorrect-imperial",
   "metadata": {},
   "outputs": [
    {
     "name": "stdout",
     "output_type": "stream",
     "text": [
      "Predicted class: tensor([1], device='cuda:0')\n"
     ]
    }
   ],
   "source": [
    "X = torch.rand(1, 28, 28, device=device)\n",
    "logits = model(X)\n",
    "pred_probab = nn.Softmax(dim=1)(logits)\n",
    "\n",
    "\"\"\"\n",
    "tensor([[0.0983, 0.1032, 0.1035, 0.0983, 0.0983, 0.0983, 0.0983, 0.1008, 0.1027,\n",
    "         0.0983]], device='cuda:0', grad_fn=<SoftmaxBackward>)\n",
    "\"\"\"\n",
    "\n",
    "y_pred = pred_probab.argmax(1)\n",
    "print(f\"Predicted class: {y_pred}\")"
   ]
  },
  {
   "cell_type": "markdown",
   "id": "indie-archives",
   "metadata": {},
   "source": [
    "### Model layers\n",
    "\n",
    "FashionMNIST model의 네트워크를 나누어서 살펴보고, 이미지 3개(28*28)가 포함된 미니배치를 네트워크에 통과시켜서 변화를 확인할 예정"
   ]
  },
  {
   "cell_type": "code",
   "execution_count": 35,
   "id": "minor-theorem",
   "metadata": {},
   "outputs": [
    {
     "name": "stdout",
     "output_type": "stream",
     "text": [
      "torch.Size([3, 28, 28])\n"
     ]
    }
   ],
   "source": [
    "input_image = torch.rand(3, 28, 28)\n",
    "print(input_image.size())"
   ]
  },
  {
   "cell_type": "markdown",
   "id": "impossible-powell",
   "metadata": {},
   "source": [
    "#### nn.Flatten\n",
    "[nn.Flatten](https://pytorch.org/docs/stable/generated/torch.nn.Flatten.html)는 2D 28×28 이미지를 연속된 784픽셀 이미지로 전환(미니배치 차원(at dim=0)은 유지됨)"
   ]
  },
  {
   "cell_type": "code",
   "execution_count": 36,
   "id": "adopted-synthetic",
   "metadata": {},
   "outputs": [
    {
     "name": "stdout",
     "output_type": "stream",
     "text": [
      "torch.Size([3, 784])\n"
     ]
    }
   ],
   "source": [
    "flatten = nn.Flatten()\n",
    "flat_image = flatten(input_image)\n",
    "print(flat_image.size())"
   ]
  },
  {
   "cell_type": "markdown",
   "id": "through-cornwall",
   "metadata": {},
   "source": [
    "#### nn.Linear\n",
    "[linear layer](https://pytorch.org/docs/stable/generated/torch.nn.Linear.html)는 저장된 가중치와 편향을 사용하여 입력 데이터를 선형 변환함"
   ]
  },
  {
   "cell_type": "code",
   "execution_count": 37,
   "id": "italic-elimination",
   "metadata": {},
   "outputs": [
    {
     "name": "stdout",
     "output_type": "stream",
     "text": [
      "torch.Size([3, 20])\n"
     ]
    }
   ],
   "source": [
    "layer1 = nn.Linear(in_features=28*28, out_features=20)\n",
    "hidden1 = layer1(flat_image)\n",
    "print(hidden1.size())"
   ]
  },
  {
   "cell_type": "markdown",
   "id": "foster-packing",
   "metadata": {},
   "source": [
    "#### nn.ReLU\n",
    "비선형 활성 함수는 모델의 입력과 출력 사이의 복잡한 연결(비선형성)을 생성함. 이 모델에서는 [nn.ReLU](https://pytorch.org/docs/stable/generated/torch.nn.ReLU.html)을 사용하였으나 다른 비성형 활성 함수를 사용할 수도 있음"
   ]
  },
  {
   "cell_type": "code",
   "execution_count": 38,
   "id": "brilliant-enterprise",
   "metadata": {},
   "outputs": [
    {
     "name": "stdout",
     "output_type": "stream",
     "text": [
      "Before ReLU: tensor([[ 0.1978, -0.2201,  0.4359,  0.5191, -0.3190, -0.2370, -0.4388,  0.6063,\n",
      "         -0.0011,  0.0814,  0.2411, -0.0049, -0.6174,  0.1177,  0.1826,  0.0585,\n",
      "         -0.1842, -0.2568,  0.0955,  0.1145],\n",
      "        [-0.0263, -0.0821,  0.1672,  0.5268, -0.1781,  0.1370, -0.5412,  0.3732,\n",
      "          0.3383,  0.1208,  0.5933, -0.2121, -0.6746,  0.0547,  0.1921, -0.2851,\n",
      "         -0.2815, -0.2852,  0.0291, -0.1473],\n",
      "        [-0.0492, -0.5013,  0.2482,  0.2134, -0.0733, -0.3063, -0.3339,  0.7264,\n",
      "          0.1527,  0.2288, -0.0534, -0.1699, -0.8194,  0.0957,  0.2727, -0.4103,\n",
      "         -0.3895, -0.3721, -0.1096,  0.1564]], grad_fn=<AddmmBackward>)\n",
      "\n",
      "\n",
      "After ReLU: tensor([[0.1978, 0.0000, 0.4359, 0.5191, 0.0000, 0.0000, 0.0000, 0.6063, 0.0000,\n",
      "         0.0814, 0.2411, 0.0000, 0.0000, 0.1177, 0.1826, 0.0585, 0.0000, 0.0000,\n",
      "         0.0955, 0.1145],\n",
      "        [0.0000, 0.0000, 0.1672, 0.5268, 0.0000, 0.1370, 0.0000, 0.3732, 0.3383,\n",
      "         0.1208, 0.5933, 0.0000, 0.0000, 0.0547, 0.1921, 0.0000, 0.0000, 0.0000,\n",
      "         0.0291, 0.0000],\n",
      "        [0.0000, 0.0000, 0.2482, 0.2134, 0.0000, 0.0000, 0.0000, 0.7264, 0.1527,\n",
      "         0.2288, 0.0000, 0.0000, 0.0000, 0.0957, 0.2727, 0.0000, 0.0000, 0.0000,\n",
      "         0.0000, 0.1564]], grad_fn=<ReluBackward0>)\n"
     ]
    }
   ],
   "source": [
    "print(f\"Before ReLU: {hidden1}\\n\\n\")\n",
    "hidden1 = nn.ReLU()(hidden1)\n",
    "print(f\"After ReLU: {hidden1}\")"
   ]
  },
  {
   "cell_type": "markdown",
   "id": "headed-desktop",
   "metadata": {},
   "source": [
    "#### nn.Sequential"
   ]
  },
  {
   "cell_type": "markdown",
   "id": "boxed-calculation",
   "metadata": {},
   "source": [
    "[nn.Sequential](https://pytorch.org/docs/stable/generated/torch.nn.Sequential.html)은 모듈 들의 순서를 정의하고, 데이터는 정의한 순서대로 모든 모듈을 통과함. "
   ]
  },
  {
   "cell_type": "code",
   "execution_count": 39,
   "id": "gorgeous-italian",
   "metadata": {},
   "outputs": [],
   "source": [
    "seq_modules = nn.Sequential(\n",
    "    flatten,\n",
    "    layer1,\n",
    "    nn.ReLU(),\n",
    "    nn.Linear(20, 10)\n",
    ")\n",
    "\n",
    "input_image - torch.rand(3, 28, 28)\n",
    "logits = seq_modules(input_image)"
   ]
  },
  {
   "cell_type": "markdown",
   "id": "streaming-confirmation",
   "metadata": {},
   "source": [
    "#### nn.Softmax\n",
    "신경망의 마지막 층에서는 범위가 [-infty, infty] 인 `logits`을 반환하므로 [nn.Softmax](https://pytorch.org/docs/stable/generated/torch.nn.Softmax.html)을 사용하여 [0, 1] 사이의 값 즉, 각 범주의 예측 확률변수로 나타낼 수 있음. `dim` parameter는 해당 축의 합이 1인 차원을 가리킴."
   ]
  },
  {
   "cell_type": "code",
   "execution_count": 40,
   "id": "welsh-cambridge",
   "metadata": {},
   "outputs": [],
   "source": [
    "softmax = nn.Softmax(dim=1)\n",
    "pred_probab = softmax(logits)"
   ]
  },
  {
   "cell_type": "markdown",
   "id": "atmospheric-postcard",
   "metadata": {},
   "source": [
    "### Model parameters\n",
    "\n",
    "신경망의 많은 layer는 파라미터로 나타낼 수 있으며, 파라미터 학습 중 최적화됨. `nn.Module` 를 상속하면 자동으로 모델 내 파라미터들이 추적되며, 모든 파라미터는 모델의 `parameters()` 혹은 `named_parameters()` 함수로 접근할 수 있음"
   ]
  },
  {
   "cell_type": "code",
   "execution_count": 41,
   "id": "associate-warrant",
   "metadata": {},
   "outputs": [
    {
     "name": "stdout",
     "output_type": "stream",
     "text": [
      "Model structure:  NeuralNetwork(\n",
      "  (flatten): Flatten(start_dim=1, end_dim=-1)\n",
      "  (linear_relu_stack): Sequential(\n",
      "    (0): Linear(in_features=784, out_features=512, bias=True)\n",
      "    (1): ReLU()\n",
      "    (2): Linear(in_features=512, out_features=512, bias=True)\n",
      "    (3): ReLU()\n",
      "    (4): Linear(in_features=512, out_features=10, bias=True)\n",
      "    (5): ReLU()\n",
      "  )\n",
      ") \n",
      "\n",
      "\n",
      "Layer: linear_relu_stack.0.weight | Size: torch.Size([512, 784]) | Values : Parameter containing:\n",
      "tensor([[-0.0086,  0.0239, -0.0357,  ...,  0.0343,  0.0206, -0.0123],\n",
      "        [ 0.0189, -0.0171,  0.0202,  ...,  0.0341,  0.0136,  0.0257],\n",
      "        [-0.0102, -0.0332,  0.0130,  ...,  0.0234, -0.0336, -0.0092],\n",
      "        ...,\n",
      "        [-0.0231, -0.0305,  0.0154,  ..., -0.0051,  0.0187, -0.0177],\n",
      "        [ 0.0202, -0.0222, -0.0080,  ...,  0.0005, -0.0284, -0.0005],\n",
      "        [ 0.0066, -0.0343,  0.0037,  ...,  0.0334, -0.0224, -0.0167]],\n",
      "       device='cuda:0', requires_grad=True) \n",
      "\n",
      "Layer: linear_relu_stack.0.bias | Size: torch.Size([512]) | Values : Parameter containing:\n",
      "tensor([ 3.3450e-02, -2.6417e-04,  1.3387e-02,  2.0698e-02,  2.3131e-02,\n",
      "        -1.4283e-02, -1.2606e-04, -2.3919e-02,  2.7788e-02, -9.7004e-03,\n",
      "        -2.7476e-02,  2.6992e-02, -1.2105e-02, -1.8845e-02,  2.3516e-03,\n",
      "        -2.8786e-02,  1.3932e-02,  2.1549e-02, -1.9627e-02,  1.3212e-02,\n",
      "         3.4026e-02, -2.3801e-02, -1.6099e-02, -3.5709e-02,  1.1356e-02,\n",
      "         2.3780e-02, -2.9032e-02, -7.2641e-03,  2.3025e-02,  3.1137e-02,\n",
      "         2.0344e-02,  3.3691e-02, -1.5006e-02,  3.4777e-02, -4.8937e-03,\n",
      "        -1.0049e-02,  3.4435e-03, -6.7316e-03,  1.0959e-02, -2.9270e-02,\n",
      "         2.1023e-02,  2.1289e-02,  3.1833e-02, -2.6880e-02, -2.2705e-02,\n",
      "         1.7342e-02, -3.0246e-03, -9.5787e-03, -2.7710e-02, -1.1558e-02,\n",
      "         1.8155e-03, -3.5543e-02, -2.3787e-02,  2.7108e-02, -3.1292e-02,\n",
      "         9.0474e-03,  9.2301e-03, -7.2627e-03,  1.3545e-02,  2.7695e-02,\n",
      "        -2.1896e-02,  1.6448e-02,  3.1803e-03,  2.6769e-02, -2.3839e-02,\n",
      "         1.6977e-02, -1.1683e-02, -1.3331e-02, -8.4130e-03,  1.7245e-02,\n",
      "        -1.6297e-02, -2.6593e-02, -1.7095e-02,  3.0812e-02, -5.6151e-03,\n",
      "        -1.9578e-02, -2.9273e-02, -1.0683e-02, -4.8191e-03, -2.1834e-02,\n",
      "        -2.0186e-02, -3.5233e-02,  4.3348e-03, -2.2555e-03, -1.4806e-02,\n",
      "        -4.2670e-03, -6.2506e-03, -1.4848e-02,  3.1982e-02, -9.0463e-03,\n",
      "        -1.2431e-02, -2.2460e-02,  1.7020e-02,  1.9442e-02,  1.7571e-02,\n",
      "        -1.3058e-02, -3.5347e-02, -3.0018e-02, -1.3695e-02, -3.1178e-03,\n",
      "         2.0849e-03, -2.3648e-02, -2.7899e-02,  1.4271e-02, -1.7336e-02,\n",
      "         9.5740e-03, -5.9981e-03, -2.1116e-02, -2.1687e-02,  1.7545e-02,\n",
      "        -1.6662e-02, -1.7736e-03, -3.3737e-02, -6.1413e-03, -2.0046e-02,\n",
      "        -1.1903e-02,  1.8996e-02, -2.4583e-02,  3.2182e-02,  2.0608e-03,\n",
      "        -1.3136e-02, -2.1836e-02,  3.2528e-03,  8.8970e-03, -2.9623e-02,\n",
      "         9.8799e-03, -3.1430e-02,  1.3339e-02,  1.4376e-03, -3.0532e-03,\n",
      "        -1.9481e-02,  1.1368e-02, -1.1824e-02,  3.1022e-02,  6.7259e-03,\n",
      "        -2.3383e-02,  3.5532e-02, -8.9601e-03,  7.3844e-03, -3.0995e-02,\n",
      "        -2.3195e-02, -2.2290e-02, -2.3569e-02,  1.9015e-03,  1.4105e-02,\n",
      "         3.0401e-02,  2.8199e-02,  1.6260e-02,  2.6880e-02,  1.6965e-03,\n",
      "         2.6575e-02, -1.6980e-03, -9.9148e-03,  5.5117e-03,  2.5153e-02,\n",
      "         2.3647e-02, -2.7235e-02,  1.6736e-02,  2.7831e-02,  3.5735e-03,\n",
      "         2.3971e-02,  1.5119e-02, -1.4202e-02,  1.5380e-02,  2.0997e-02,\n",
      "         7.3782e-03,  3.3872e-02, -7.7986e-03, -1.2796e-02, -2.5438e-02,\n",
      "         1.5670e-02, -3.9551e-03,  7.1171e-03, -1.9704e-02,  4.3810e-03,\n",
      "         1.7435e-02, -4.3940e-03, -1.8290e-02,  5.3176e-03, -1.4473e-02,\n",
      "        -3.0169e-02,  1.7647e-02, -3.1156e-02, -1.5762e-02, -2.4933e-02,\n",
      "         2.1387e-02, -2.7293e-02, -3.2057e-02, -2.6355e-02, -9.4544e-04,\n",
      "        -2.6246e-02, -2.9958e-03,  3.3317e-02,  8.1439e-03,  1.7668e-02,\n",
      "         1.9252e-02, -2.9016e-02,  3.0782e-02, -7.0007e-03,  7.0395e-03,\n",
      "        -2.3142e-02, -2.4224e-02,  3.3727e-02, -6.5615e-04, -2.8141e-02,\n",
      "         6.4455e-03,  1.5806e-02,  3.1299e-02, -1.1587e-02,  5.7410e-03,\n",
      "        -3.6184e-03,  2.1863e-02, -2.4179e-02, -1.6430e-02, -1.8335e-02,\n",
      "        -1.4973e-02, -1.8357e-02,  1.3350e-02,  2.7274e-02,  1.3287e-02,\n",
      "        -2.9833e-02, -1.4466e-03,  1.2375e-02, -2.3393e-02, -1.4308e-02,\n",
      "        -1.1041e-02,  3.4830e-02,  1.2719e-02,  2.6381e-02, -3.3077e-02,\n",
      "         2.1475e-03,  2.3538e-02, -2.7391e-02, -1.7331e-02, -1.5460e-02,\n",
      "         2.6299e-02,  5.3507e-03,  2.1975e-02, -2.2322e-02, -2.9588e-02,\n",
      "         1.4894e-02, -2.0685e-02, -1.2163e-02,  3.4022e-02, -3.5166e-02,\n",
      "        -1.6236e-02, -2.1046e-02,  2.5619e-02,  1.7441e-02,  2.2467e-02,\n",
      "         8.9422e-03, -3.4990e-02,  6.8197e-03, -3.1609e-02,  1.3032e-02,\n",
      "         1.4402e-02, -1.9799e-03, -2.5154e-02,  2.5353e-02, -3.1827e-02,\n",
      "         2.5645e-02,  2.5505e-02, -3.3160e-02, -7.3864e-03, -2.7523e-02,\n",
      "        -2.8603e-02, -3.0323e-02,  1.2620e-02, -3.4446e-02,  2.9270e-02,\n",
      "        -1.7835e-02, -2.4046e-02,  1.1144e-03, -2.9037e-03, -2.7056e-02,\n",
      "         2.8319e-03, -2.3540e-02, -3.3039e-02,  3.2470e-02, -9.5189e-03,\n",
      "         3.2797e-03, -3.0062e-03,  2.6491e-02, -3.4851e-02,  3.3665e-02,\n",
      "         1.0266e-02,  2.6418e-03,  7.1979e-03, -2.6473e-02, -1.8284e-02,\n",
      "        -3.5171e-02, -3.5052e-02,  1.3508e-02, -1.3721e-02,  5.8740e-03,\n",
      "        -7.5198e-03,  2.1642e-02, -3.2172e-02, -3.5041e-02,  1.8765e-02,\n",
      "         2.7852e-03,  2.9551e-03, -2.1577e-02,  2.5695e-02, -2.9695e-02,\n",
      "        -2.5441e-02, -2.6529e-02, -5.2514e-03,  1.0703e-03, -1.5563e-02,\n",
      "         9.1106e-03, -2.4219e-03,  2.9247e-02,  9.4658e-03, -1.3538e-02,\n",
      "        -2.9481e-02, -1.0056e-02, -2.3736e-02,  1.0758e-02, -8.5132e-03,\n",
      "         2.6992e-02, -1.7622e-02, -7.8529e-03, -3.2940e-02, -3.6880e-04,\n",
      "        -3.5384e-02, -6.0193e-03, -7.5025e-03, -2.3820e-02,  1.0103e-02,\n",
      "        -1.9892e-02, -1.5512e-02,  2.0574e-02,  5.8576e-03, -3.4685e-02,\n",
      "         1.3568e-02,  3.5613e-02,  1.6858e-02,  1.7085e-02,  3.4969e-02,\n",
      "        -2.8843e-02,  2.8062e-02,  3.0777e-02, -3.3107e-03, -3.0747e-02,\n",
      "        -4.5006e-03,  2.1475e-02,  2.0187e-02,  1.1345e-02,  1.1779e-02,\n",
      "        -2.3664e-03,  1.1382e-02,  2.3239e-02, -2.9600e-02, -1.3154e-02,\n",
      "        -1.6670e-02, -2.6661e-03,  1.0556e-02,  9.1428e-03,  1.3317e-02,\n",
      "        -6.9359e-03,  7.5668e-03,  3.1041e-02, -2.2082e-02, -1.9109e-02,\n",
      "         9.0284e-05, -3.0626e-02, -1.4300e-02,  3.1651e-02,  2.7185e-02,\n",
      "         2.7420e-02, -7.0258e-03,  2.2393e-02, -1.3853e-02,  3.0868e-02,\n",
      "        -7.9145e-03,  4.6259e-03,  4.3358e-03, -1.0433e-02,  2.5614e-02,\n",
      "        -2.9970e-02,  2.5668e-02, -8.7792e-03, -6.3040e-03,  2.3529e-02,\n",
      "         2.5138e-02,  1.3641e-02, -2.9720e-02, -1.2513e-02, -4.7026e-03,\n",
      "        -1.0464e-02,  1.1763e-02, -1.1231e-02,  4.2963e-03, -3.2966e-03,\n",
      "         1.3005e-02,  7.7143e-03, -2.7055e-02,  3.3876e-02, -8.4210e-03,\n",
      "        -3.1690e-02, -3.2063e-03, -1.3024e-02,  1.6599e-02,  2.3851e-02,\n",
      "         8.5312e-03,  3.2728e-02,  3.9340e-03, -2.7757e-02, -3.4285e-02,\n",
      "        -1.3587e-02,  1.9889e-02,  2.1110e-02,  1.9576e-02, -7.9917e-03,\n",
      "        -1.8727e-02, -1.1793e-02, -2.1380e-02, -4.5913e-04, -5.9209e-04,\n",
      "         1.1220e-02, -8.7964e-03,  3.0190e-02, -1.4606e-02,  1.3408e-02,\n",
      "        -2.9139e-02,  2.5144e-02,  2.8512e-02, -3.4299e-02, -1.0418e-02,\n",
      "         3.5512e-02,  3.3708e-03,  2.6774e-02, -1.2734e-02,  2.2061e-03,\n",
      "         7.9702e-03, -2.2480e-02,  2.7210e-03, -8.0455e-03, -3.0791e-02,\n",
      "        -2.6360e-02,  2.4089e-02,  4.2736e-03, -1.1531e-03, -2.1160e-02,\n",
      "        -3.5473e-02, -8.6912e-03, -1.7274e-02, -1.7631e-02, -2.4564e-02,\n",
      "        -1.6978e-02,  1.5038e-02,  1.1206e-03, -2.8958e-02,  2.1150e-02,\n",
      "        -1.2803e-02, -4.4420e-03,  3.4592e-02,  3.1364e-02, -3.3761e-02,\n",
      "        -6.5875e-03,  2.7099e-02,  3.4020e-02,  3.5091e-02, -1.7205e-02,\n",
      "         1.3545e-02,  8.6785e-03,  3.0017e-02,  1.4973e-02, -1.6356e-02,\n",
      "         1.2314e-02, -1.4842e-02,  3.2739e-02,  7.6589e-03, -8.3638e-05,\n",
      "        -3.3898e-02,  2.2961e-02, -3.4134e-02,  1.8209e-02,  2.1670e-02,\n",
      "         1.5883e-03, -2.8329e-02,  3.3715e-02,  2.4574e-02, -2.5856e-02,\n",
      "        -8.5947e-03,  2.8143e-02,  2.7837e-02,  1.1368e-02,  2.4706e-02,\n",
      "         2.2749e-02, -2.1729e-03, -5.1960e-03, -1.5336e-02,  3.3815e-02,\n",
      "         1.5044e-02,  1.4243e-03, -2.0257e-02,  2.9531e-02, -1.8623e-02,\n",
      "        -2.4313e-03, -3.0231e-02, -2.6457e-03, -2.7461e-02, -7.9592e-03,\n",
      "         3.0093e-02, -3.2427e-02, -1.4879e-02,  9.6872e-03, -1.5604e-02,\n",
      "        -5.6308e-03, -2.1632e-02], device='cuda:0', requires_grad=True) \n",
      "\n",
      "Layer: linear_relu_stack.2.weight | Size: torch.Size([512, 512]) | Values : Parameter containing:\n",
      "tensor([[ 0.0151, -0.0335, -0.0321,  ...,  0.0312, -0.0269,  0.0323],\n",
      "        [ 0.0205,  0.0080,  0.0094,  ..., -0.0428, -0.0344,  0.0288],\n",
      "        [-0.0107, -0.0328, -0.0073,  ...,  0.0132, -0.0234, -0.0271],\n",
      "        ...,\n",
      "        [ 0.0104, -0.0041,  0.0435,  ..., -0.0325,  0.0272,  0.0068],\n",
      "        [ 0.0058, -0.0180,  0.0184,  ..., -0.0199,  0.0209,  0.0350],\n",
      "        [ 0.0200, -0.0342, -0.0328,  ..., -0.0307,  0.0117, -0.0182]],\n",
      "       device='cuda:0', requires_grad=True) \n",
      "\n",
      "Layer: linear_relu_stack.2.bias | Size: torch.Size([512]) | Values : Parameter containing:\n",
      "tensor([-3.8291e-04,  1.4790e-03,  1.9151e-02,  4.3658e-02, -2.3544e-02,\n",
      "        -3.3796e-02, -4.4162e-02,  1.0804e-02, -3.4815e-02, -2.8033e-02,\n",
      "         2.0028e-02, -2.0086e-02,  1.0346e-02,  8.9639e-03,  3.7176e-02,\n",
      "        -5.5904e-03, -1.2816e-02, -2.4724e-02, -4.0995e-02, -3.3443e-02,\n",
      "        -6.8654e-03, -4.3784e-02,  8.7296e-03, -2.4178e-02,  7.7561e-03,\n",
      "         4.4231e-03, -2.6237e-02,  2.0159e-03,  4.1591e-02, -2.0748e-03,\n",
      "        -2.1647e-02, -3.3561e-02, -2.8966e-02, -2.9602e-02,  1.3453e-02,\n",
      "        -2.1414e-03,  2.9749e-02,  2.1857e-02, -9.8336e-04, -6.4977e-03,\n",
      "        -6.9464e-03,  3.8672e-02, -1.3548e-02, -3.7695e-02, -3.5624e-02,\n",
      "         3.5847e-02, -2.9810e-02,  5.6666e-05, -2.6092e-02, -2.7394e-02,\n",
      "         3.2854e-02, -1.2456e-02,  2.6198e-02,  1.0706e-02, -1.8401e-02,\n",
      "        -3.8384e-03,  2.6932e-02, -3.1861e-02, -1.8618e-02,  3.1185e-02,\n",
      "         2.0988e-03, -3.4388e-02,  1.5816e-02,  9.9030e-03,  1.2010e-02,\n",
      "        -3.0934e-02, -1.3394e-02,  9.2301e-03,  1.0399e-02,  6.3388e-03,\n",
      "         1.6414e-02,  2.7820e-02,  4.3269e-02, -2.3703e-02,  2.4569e-02,\n",
      "        -3.7333e-02,  1.4561e-03,  9.4761e-03, -3.0559e-03,  1.2306e-02,\n",
      "        -4.7613e-03, -3.4452e-02,  3.2929e-02,  4.2632e-02,  4.0900e-02,\n",
      "        -1.1449e-03,  1.3023e-02, -3.5896e-02,  3.7532e-02,  4.0720e-02,\n",
      "        -1.8452e-02,  3.3989e-02,  1.2801e-03,  3.0050e-02, -1.9689e-02,\n",
      "        -1.6062e-02,  3.5088e-02, -5.0626e-03, -3.3734e-02, -3.7266e-02,\n",
      "         3.1310e-02, -2.3489e-02,  1.9462e-02,  2.5898e-03, -2.6488e-02,\n",
      "         2.8968e-02,  1.1401e-02,  3.8114e-02, -3.2183e-02, -3.9736e-02,\n",
      "         2.1831e-02, -2.0064e-02, -6.3448e-03,  3.8576e-03, -1.7756e-02,\n",
      "        -3.1084e-02, -1.6291e-02, -3.7466e-02, -1.4963e-03,  3.8732e-03,\n",
      "         2.0834e-03, -3.2002e-02,  4.4048e-02,  5.9588e-03, -1.2737e-03,\n",
      "        -1.5114e-02,  3.9972e-02, -3.2875e-02, -3.5358e-02,  3.3720e-02,\n",
      "         3.6367e-02, -4.1926e-03, -3.9798e-02, -1.1938e-02,  6.6694e-03,\n",
      "         4.0549e-03, -3.5493e-02,  4.5026e-03,  4.1054e-02, -1.6417e-03,\n",
      "        -6.0120e-03, -9.4493e-04,  2.5456e-02, -2.6692e-02,  1.2008e-02,\n",
      "         1.3701e-02, -2.1338e-02, -4.2986e-02, -3.1200e-02,  2.5827e-02,\n",
      "         1.7177e-02, -7.4683e-03,  2.2661e-02,  1.1121e-02,  1.1387e-02,\n",
      "         3.3707e-02, -2.3539e-03,  8.7443e-03, -2.5690e-02, -4.0692e-02,\n",
      "        -1.5027e-02,  3.3429e-02, -4.4937e-03, -2.3648e-02, -3.4478e-02,\n",
      "         1.8510e-02,  2.1397e-03,  3.2865e-02,  1.9635e-02,  1.1056e-02,\n",
      "        -9.0261e-03,  4.3700e-02, -3.4142e-02,  2.2519e-04, -1.2014e-03,\n",
      "        -1.5266e-02,  4.2246e-02, -4.0553e-02,  1.8451e-02,  9.3294e-03,\n",
      "        -3.8305e-02, -1.6713e-02,  3.4555e-02, -4.3583e-02, -3.2650e-03,\n",
      "        -1.9449e-02,  2.9432e-02, -1.7172e-02,  8.1133e-03,  1.6899e-02,\n",
      "        -3.4319e-02,  4.1902e-02, -1.4684e-02, -5.6577e-03, -4.2524e-02,\n",
      "        -2.5616e-02, -4.2939e-02,  5.3506e-03, -2.9942e-02,  1.5027e-02,\n",
      "        -9.1662e-03,  3.0930e-03, -3.0982e-02, -2.3209e-02,  2.0913e-02,\n",
      "        -2.5090e-02, -1.3276e-02,  2.1314e-02, -2.4733e-02,  1.5039e-03,\n",
      "        -1.6698e-02, -1.1883e-02,  1.0353e-03, -3.3527e-03,  4.0492e-02,\n",
      "         3.7974e-02,  5.7153e-03,  3.7660e-02,  3.7942e-02,  1.4942e-03,\n",
      "        -4.1226e-03,  1.9205e-02, -1.2878e-03, -3.6683e-02, -3.8326e-02,\n",
      "        -3.6530e-02,  3.3195e-02, -1.7725e-02,  4.0818e-02, -1.6936e-02,\n",
      "        -5.1971e-03,  1.7774e-02, -4.3509e-02,  3.0710e-02,  4.2528e-02,\n",
      "        -5.2610e-03,  1.2788e-02,  2.3028e-02,  2.5087e-02,  1.8064e-02,\n",
      "         3.7381e-02,  2.7086e-02, -2.1580e-03, -4.2152e-02, -1.0245e-02,\n",
      "         2.5493e-02,  3.6075e-02,  1.8016e-02, -3.8537e-02,  5.0007e-03,\n",
      "        -3.0112e-02,  1.6310e-02, -4.1620e-02, -3.4794e-03, -4.1204e-02,\n",
      "        -7.6438e-03, -5.9420e-03, -2.1737e-02,  1.2360e-02, -3.3816e-03,\n",
      "        -3.1031e-02, -2.3725e-02, -7.7366e-03, -4.0567e-02, -1.3021e-02,\n",
      "         2.3175e-02, -2.0402e-03, -2.0979e-02,  1.1494e-02,  1.5665e-02,\n",
      "         3.5610e-02,  4.2361e-02, -2.8619e-02, -3.8797e-02, -2.3282e-03,\n",
      "         6.7949e-03, -4.3689e-02,  2.3721e-02,  2.0653e-02, -1.4870e-02,\n",
      "         2.6906e-02,  2.7882e-02,  5.9949e-03,  1.2475e-02, -4.2439e-02,\n",
      "        -9.6057e-03,  1.0525e-02, -2.8297e-02,  1.6908e-02,  3.5581e-02,\n",
      "        -1.3109e-02,  3.6388e-02, -4.2609e-02, -3.3186e-02,  7.6671e-03,\n",
      "        -2.9174e-02, -2.9450e-03, -3.2707e-02,  1.8873e-02, -3.6676e-03,\n",
      "        -7.9934e-03,  2.1023e-02, -8.9308e-03,  8.8881e-03, -3.7109e-02,\n",
      "        -4.0906e-02, -1.8360e-02, -2.9228e-02,  4.1591e-02, -9.9184e-04,\n",
      "        -3.7555e-02,  3.9052e-02,  1.8519e-02,  4.3757e-02, -3.4387e-02,\n",
      "         2.0648e-02, -2.5667e-03,  2.5025e-02, -1.5075e-02, -5.1361e-03,\n",
      "         2.1225e-02, -1.2467e-03, -4.7931e-03, -2.4389e-02, -1.4393e-02,\n",
      "         3.9054e-02,  1.0411e-02, -3.4887e-02, -4.1979e-02, -3.6128e-02,\n",
      "         2.4988e-02,  1.7700e-02, -4.3264e-02, -2.1490e-02,  5.4050e-03,\n",
      "         2.4247e-02,  3.2901e-02,  5.1887e-03, -3.7263e-02, -1.6552e-02,\n",
      "        -1.5747e-02,  1.4193e-03,  6.8109e-03, -2.9416e-02,  5.5967e-03,\n",
      "         1.2564e-02, -1.7290e-02,  3.1299e-02, -1.2050e-02, -1.2529e-02,\n",
      "        -1.7730e-02, -3.0071e-02, -3.6722e-02, -2.3205e-02,  1.5899e-02,\n",
      "         3.6721e-02, -1.7631e-02, -2.5851e-02,  2.1569e-02, -2.5587e-02,\n",
      "         2.1371e-02,  6.1490e-03, -2.9686e-02,  3.2970e-03,  1.6666e-02,\n",
      "        -4.2812e-03, -6.0399e-03,  1.0818e-02, -3.3853e-02, -3.8999e-02,\n",
      "        -1.5375e-02,  2.0684e-02, -6.9726e-03,  1.6266e-02,  3.5750e-02,\n",
      "        -1.5704e-02,  3.3698e-02, -3.5332e-02, -2.2875e-02, -2.5456e-02,\n",
      "         2.6108e-02, -4.0795e-02,  2.1041e-02,  3.5615e-02,  4.2886e-02,\n",
      "        -4.2458e-02,  5.3575e-03, -2.9226e-02, -3.5000e-02, -2.7764e-02,\n",
      "        -2.6089e-02, -2.4650e-02,  2.9157e-03,  4.3721e-02, -2.4348e-02,\n",
      "         4.0670e-02,  4.0408e-02, -7.2405e-03,  1.2641e-02,  2.2173e-02,\n",
      "         1.7295e-02,  2.6820e-02,  1.1353e-02,  2.9515e-02,  3.9588e-02,\n",
      "        -2.0440e-02,  2.6896e-03,  8.1800e-03,  1.6499e-02,  9.6089e-03,\n",
      "         2.1719e-02, -2.2179e-02,  1.0777e-02,  2.7018e-02, -2.9236e-02,\n",
      "        -7.0239e-03, -2.1124e-02, -3.9295e-02, -2.4559e-02,  7.7847e-03,\n",
      "        -3.5042e-02,  6.7424e-03, -1.3314e-02, -2.5290e-02,  4.1915e-02,\n",
      "         3.0446e-02,  2.0210e-02, -2.0862e-02,  3.2693e-02, -1.4370e-02,\n",
      "         2.4756e-02, -4.3896e-02, -3.5085e-02,  3.0009e-02, -6.5586e-03,\n",
      "        -4.1040e-02, -1.6755e-04,  2.2681e-02, -3.7478e-03,  1.3245e-02,\n",
      "         4.0091e-02,  1.1729e-02, -5.5369e-03, -3.8841e-03,  3.3514e-02,\n",
      "        -5.1790e-03,  1.3066e-02, -2.9022e-02,  2.5492e-02,  2.3847e-02,\n",
      "         3.9701e-02,  1.7460e-02,  4.9294e-03, -2.2738e-02, -1.2706e-02,\n",
      "        -3.0960e-02,  2.8959e-02, -1.2119e-02, -3.7188e-02,  1.8525e-02,\n",
      "        -2.7709e-02,  1.7817e-02,  1.0849e-02,  1.8764e-03,  2.6901e-02,\n",
      "        -1.2424e-02,  3.7171e-02, -6.1610e-03, -2.9366e-02,  3.4034e-02,\n",
      "         1.0214e-02,  2.4368e-02,  1.7943e-02,  5.4437e-03, -2.7376e-02,\n",
      "        -1.3432e-02,  9.9126e-03,  1.9129e-02, -3.5707e-02,  3.8423e-02,\n",
      "         4.6347e-03, -3.9158e-02,  2.0934e-03, -3.2999e-02,  1.2701e-02,\n",
      "         1.9977e-02,  2.9579e-02,  1.4422e-02,  3.2300e-02,  2.2023e-03,\n",
      "         7.1191e-03,  1.1050e-03, -1.5496e-02, -4.2300e-02,  1.9820e-02,\n",
      "        -5.8243e-04,  3.1620e-03,  2.6340e-02, -1.0929e-02,  2.4865e-02,\n",
      "        -9.3756e-04, -3.4496e-02, -9.4876e-03, -2.0399e-02, -1.7327e-02,\n",
      "         3.7164e-02,  9.8631e-03, -1.7769e-02, -1.6813e-02, -5.8282e-03,\n",
      "         3.9325e-02,  3.0474e-02], device='cuda:0', requires_grad=True) \n",
      "\n",
      "Layer: linear_relu_stack.4.weight | Size: torch.Size([10, 512]) | Values : Parameter containing:\n",
      "tensor([[-0.0252,  0.0014, -0.0127,  ..., -0.0278, -0.0433, -0.0219],\n",
      "        [ 0.0177,  0.0197,  0.0143,  ..., -0.0308, -0.0046,  0.0024],\n",
      "        [ 0.0107, -0.0109, -0.0100,  ...,  0.0064, -0.0188, -0.0342],\n",
      "        ...,\n",
      "        [-0.0368,  0.0009, -0.0003,  ...,  0.0212,  0.0398, -0.0320],\n",
      "        [-0.0020, -0.0408, -0.0301,  ..., -0.0326,  0.0160,  0.0180],\n",
      "        [-0.0026,  0.0201,  0.0137,  ...,  0.0422,  0.0033,  0.0175]],\n",
      "       device='cuda:0', requires_grad=True) \n",
      "\n",
      "Layer: linear_relu_stack.4.bias | Size: torch.Size([10]) | Values : Parameter containing:\n",
      "tensor([ 0.0266,  0.0393,  0.0097, -0.0003,  0.0081, -0.0048, -0.0268,  0.0171,\n",
      "         0.0261, -0.0135], device='cuda:0', requires_grad=True) \n",
      "\n"
     ]
    }
   ],
   "source": [
    "print(\"Model structure: \", model, \"\\n\\n\")\n",
    "\n",
    "for name, param in model.named_parameters():\n",
    "    print(f\"Layer: {name} | Size: {param.size()} | Values : {param} \\n\")"
   ]
  },
  {
   "cell_type": "markdown",
   "id": "enormous-label",
   "metadata": {},
   "source": [
    "# Automatic differentialtion\n",
    "## Automatic differentiation with torch.autograd\n",
    "- 신경망을 학습할 때 **back propagation** 을 주로 사용하며, 손실함수의 **gradient**에 따라 모델의 weigth가 조절됨\n",
    "- Pytorch에는 `torch.autograd` 라는 내장 미분계산 엔진이 있어 gradient 자동 계산을 지원함\n",
    "- 입력 백터 `x`, 파라미터 `w`, `b` 그리고 어떤 손실함수로 구성된 단일층 신경망을 고려했을 때, 아래와 같이 Pytorch로 정의할 수 있음"
   ]
  },
  {
   "cell_type": "code",
   "execution_count": 42,
   "id": "sudden-freeware",
   "metadata": {},
   "outputs": [],
   "source": [
    "import torch\n",
    "\n",
    "x = torch.ones(5) # input tensor\n",
    "y = torch.zeros(3) # expected output\n",
    "w = torch.randn(5, 3, requires_grad=True)\n",
    "b = torch.randn(3, requires_grad=True)\n",
    "z = torch.matmul(x, w) + b\n",
    "loss = torch.nn.functional.binary_cross_entropy_with_logits(z, y)"
   ]
  },
  {
   "cell_type": "markdown",
   "id": "introductory-refrigerator",
   "metadata": {},
   "source": [
    "## Tensors, Functions and Computational graph\n",
    "- 위 코드는 아래의 **computational graph**를 정의함\n",
    "![Diagram showing a computational graph with two parameters 'w' and 'b' to compute the gradients of loss.](images/computational-graph.png)\n",
    "- `w`, `b`는 최적화가 필요한 파라미터이므로 손실함수의 gradients의 자동 계산을 위해 `requires_grad` 를 true로 설정하였음\n",
    "> Tensor를 생성할 때 requires_grad를 설정하거나 만든 뒤에는 x.requires_grad_(True)로 설정 가능함\n",
    "- computational graph 생성을 위해 실행한 함수는 사실 `Funtion` class의 object임\n",
    "- 이 object는 forword 방향의 연산과, 미분하는 동안의 backward propagarion의 계산을 어떻게 해야하는지 알고 있으며, Tensor의 `grad_fn` property에 저장하고 있음"
   ]
  },
  {
   "cell_type": "code",
   "execution_count": 43,
   "id": "legal-november",
   "metadata": {},
   "outputs": [
    {
     "name": "stdout",
     "output_type": "stream",
     "text": [
      "Gradient function for z = <AddBackward0 object at 0x7f5660416f90>\n",
      "Gradient function for loss = <BinaryCrossEntropyWithLogitsBackward object at 0x7f563cb31310>\n"
     ]
    }
   ],
   "source": [
    "print('Gradient function for z =',z.grad_fn)\n",
    "print('Gradient function for loss =', loss.grad_fn)"
   ]
  },
  {
   "cell_type": "markdown",
   "id": "color-machinery",
   "metadata": {},
   "source": [
    "미분 계산을 위해 `loss.backward()`을 호출 후 `w.grad`, `b.grad`를 호출하여 값 확인"
   ]
  },
  {
   "cell_type": "code",
   "execution_count": 44,
   "id": "ordered-ordering",
   "metadata": {},
   "outputs": [
    {
     "name": "stdout",
     "output_type": "stream",
     "text": [
      "tensor([[0.2564, 0.0207, 0.3236],\n",
      "        [0.2564, 0.0207, 0.3236],\n",
      "        [0.2564, 0.0207, 0.3236],\n",
      "        [0.2564, 0.0207, 0.3236],\n",
      "        [0.2564, 0.0207, 0.3236]])\n",
      "tensor([0.2564, 0.0207, 0.3236])\n"
     ]
    }
   ],
   "source": [
    "loss.backward()\n",
    "print(w.grad)\n",
    "print(b.grad)"
   ]
  },
  {
   "cell_type": "markdown",
   "id": "senior-nursery",
   "metadata": {},
   "source": [
    "> **Note** requires_grad 설정이 True인 leaf node에서만 grad를 사용할 수 있음. 또한 성능을 고려하여 주어진 그래프에서 gradient는 한번만 호출될 수 있음. 같은 그래프에서 반복적으로 호출하기 위해서는 `backward` 호출에 retain_graph=True로 설정해야 함\n",
    "\n",
    "### Disabling gradient tarcking\n",
    "모든 Tensor는 기본적으로 `requires_trad=True`로 설정되어 계산 이력이 추적되어, gradient 계산을 지원함. 그러나 학습된 모델에서 입력값을 추론하는 경우에는 단지 forward만 필요할 것임. 이러한 경우 `with torch.no_grad()` 블럭을 사용하여 기본 동작을 정지할 수 있음"
   ]
  },
  {
   "cell_type": "code",
   "execution_count": 45,
   "id": "warming-prior",
   "metadata": {},
   "outputs": [
    {
     "name": "stdout",
     "output_type": "stream",
     "text": [
      "True\n",
      "False\n"
     ]
    }
   ],
   "source": [
    "z = torch.matmul(x, w)+b\n",
    "print(z.requires_grad)\n",
    "\n",
    "with torch.no_grad():\n",
    "    z = torch.matmul(x, w)+b\n",
    "print(z.requires_grad)"
   ]
  },
  {
   "cell_type": "markdown",
   "id": "matched-merchant",
   "metadata": {},
   "source": [
    "`detach` 함수를 사용하여 같은 결과를 얻을 수 있음"
   ]
  },
  {
   "cell_type": "code",
   "execution_count": 46,
   "id": "original-replacement",
   "metadata": {},
   "outputs": [
    {
     "name": "stdout",
     "output_type": "stream",
     "text": [
      "False\n"
     ]
    }
   ],
   "source": [
    "z = torch.matmul(x, w)+b\n",
    "z_det = z.detach()\n",
    "print(z_det.requires_grad)"
   ]
  },
  {
   "cell_type": "markdown",
   "id": "extended-baltimore",
   "metadata": {},
   "source": [
    "gradient tracking을 정지하는 이유는 아래와 같음\n",
    "- [fine tuning a pre-trained network](https://pytorch.org/tutorials/beginner/finetuning_torchvision_models_tutorial.html) 에서 자주 사용하는 시나리오로써 신경망의 파라미터를 고정하기 위함\n",
    "- 이미 학습이 끝난 모델을 사용하여 추론하는 경우 forward pass만 필요하므로 gradient 추적을 하지 않음으로써 성능 향상이 가능함"
   ]
  },
  {
   "cell_type": "markdown",
   "id": "social-preference",
   "metadata": {},
   "source": [
    "## More on Computational Graph\n",
    "\n",
    "개념적으로 Autograd는 Function Object로 구성된 DAG 안에 있는 모든 연산자와 데이터를 유지함. DAG에서 leaf는 입력 Tensor를 root는 출력 Tensor이며, Leaf(input)에서 Root(output)까지 추적이 가능하므로, chain rule을 사용하여 자동으로 gradient를 계산할 수 있음.\n",
    "\n",
    "Forward pass에서 autograd는 두 가지를 동시에 수행함\n",
    "- 연산자를 실행하여 Tensor의 계산 결과를 제공함\n",
    "- DAG에서 연산자의 gradient 기능을 유지\n",
    "\n",
    "Backward pass에서 DAG root에서 `backward()`가 호출되었을 때 autograd는\n",
    "- 각 `.grad_fn`에서 gradient를 계산\n",
    "- Chain Rule를 사용하여 각 Tensor의 .grad 속성을 누적 계산하고, leaf tensor까지 모든 방향으로 전파함\n",
    "\n",
    "### DAGs are dynamic in Pytorch\n",
    "- 주목할 점은 그래프가 처음부터 다시 생성된다는 것\n",
    "- `.backward()` 호출 후 autograd는 새 그래프를 생성하기 시작. 이것이 바로 모델에서 제어 흐름을 사용할 수 있도록 함. 필요한 경우 반복할 때 마다 모양, 크기 및 연산의 변경이 가능함"
   ]
  },
  {
   "cell_type": "markdown",
   "id": "baking-russian",
   "metadata": {},
   "source": [
    "# Learn about the optimization loop\n",
    "## Optimizing the model parameters\n",
    "- 모델을 학습하는 것은 반복적인 프로세스이며 epoch로 불리우는 각 반복 단계에서 모델은 출력과 에러를 계산\n",
    "- 이후에는 모듈에서의 파라미터와 관련된 에러의 미분값을 수집하고 경사하강법을 사용하여 파라미터를 최적화함\n",
    "- 이 프로세스의 자세한 내용은 [backpropagation from 3Blue1Brown](https://www.youtube.com/watch?v=tIeHLnjs5U8)를 참고바람\n",
    "\n",
    "### Prerequisite code\n",
    "앞에서 소개된 코드로부터 **Dataset**, **DataLoaders**, **Build Model** 모듈이 필요"
   ]
  },
  {
   "cell_type": "code",
   "execution_count": 47,
   "id": "fabulous-syracuse",
   "metadata": {},
   "outputs": [],
   "source": [
    "import torch\n",
    "from torch import nn\n",
    "from torch.utils.data import DataLoader\n",
    "from torchvision import datasets\n",
    "from torchvision.transforms import ToTensor, Lambda\n",
    "\n",
    "training_data = datasets.FashionMNIST(\n",
    "    root=\"data\",\n",
    "    train=True,\n",
    "    download=True,\n",
    "    transform=ToTensor()\n",
    ")\n",
    "\n",
    "test_data = datasets.FashionMNIST(\n",
    "    root=\"data\",\n",
    "    train=False,\n",
    "    download=True,\n",
    "    transform=ToTensor()\n",
    ")\n",
    "\n",
    "train_dataloader = DataLoader(training_data, batch_size=64)\n",
    "test_dataloader = DataLoader(test_data, batch_size=64)"
   ]
  },
  {
   "cell_type": "code",
   "execution_count": 48,
   "id": "executive-translation",
   "metadata": {},
   "outputs": [],
   "source": [
    "class NeuralNetwork(nn.Module):\n",
    "    def __init__(self):\n",
    "        super(NeuralNetwork, self).__init__()\n",
    "        self.flatten = nn.Flatten()\n",
    "        self.linear_relu_stack = nn.Sequential(\n",
    "            nn.Linear(28*28, 512),\n",
    "            nn.ReLU(),\n",
    "            nn.Linear(512, 512),\n",
    "            nn.ReLU(),\n",
    "            nn.Linear(512, 10),\n",
    "            nn.ReLU()\n",
    "        )\n",
    "        \n",
    "    def forward(self, x):\n",
    "        x = self.flatten(x)\n",
    "        logits = self.linear_relu_stack(x)\n",
    "        return logits\n",
    "    \n",
    "model = NeuralNetwork()"
   ]
  },
  {
   "cell_type": "markdown",
   "id": "infectious-attack",
   "metadata": {},
   "source": [
    "## Setting hyperparameters\n",
    "하이퍼파라미터는 모델 최적화 프로세스를 제어하는 조절 가능한 파라미터를 의미함. 하이퍼파라미터는 모델 학습과 수렴 속도에 영향을 줌([참고](https://pytorch.org/tutorials/beginner/hyperparameter_tuning_tutorial.html))\n",
    "\n",
    "모델 훈련을 위해 다음의 하이퍼파라미터를 정의\n",
    "- **Number of Epochs** - 데이터 전체의 반복 횟수\n",
    "- **Bactch Size** - 각 epoch에서 모델에 보여지는 데이터 샘플 수 \n",
    "- **Learning Rate** - 각 batch와 epoch에서의 업데이트 크기로 작은 값는 학습 속도가 느려지지만, 큰 값은 학습 동안 예측할 수 없는 결과를 초래함"
   ]
  },
  {
   "cell_type": "code",
   "execution_count": 49,
   "id": "demanding-truck",
   "metadata": {},
   "outputs": [],
   "source": [
    "learning_rate = 1e-3\n",
    "batch_size = 64\n",
    "epochs = 5"
   ]
  },
  {
   "cell_type": "markdown",
   "id": "juvenile-dining",
   "metadata": {},
   "source": [
    "## Add an optimization loop\n",
    "\n",
    "하이퍼파라미터를 설정한 다음으로 최적화 반복을 사용하여 모델 학습과 최적화할 수 있음. 최적화를 위한 각 반복을 **epoch**라 부름. 각 epoch는 두 부분으로 구성됨.\n",
    "- The Train Loop - 데이터 전체를 학습하고 최적 파라미터로 수렴을 반복적으로 시도함\n",
    "- The validation/Test Loop - 테스트 데이터 전반에서 모델 성능이 향상되었는지 확인을 반복함\n",
    "\n",
    "### Add a loss function\n",
    "손실함수는 목표값과 모델로 부터 얻은 값 사이의 차이를 측정하므로 학습하는 동안 최소화되길 원함. 손실을 계산하기 위해 주어진 데이터 샘플을 사용하여 예측한 값과 실제  값의 차이를 비교함\n",
    "\n",
    "일반적인 손실 함수는 [nn.MSELoss](https://pytorch.org/docs/stable/generated/torch.nn.MSELoss.html#torch.nn.MSELoss) (Mean Square Error, regression), [nn.NLLLoss](https://pytorch.org/docs/stable/generated/torch.nn.NLLLoss.html#torch.nn.NLLLoss) (Negative Log Likelihood, classification), [nn.CrossEntropyLoss](https://pytorch.org/docs/stable/generated/torch.nn.CrossEntropyLoss.html#torch.nn.CrossEntropyLoss) (combines `nn.LogSoftmax` and `nn.NLLLoss`.)\n",
    "\n",
    "출력 logit을 `nn.CrossEntropyLoss`로 전달하면, logit을 정규화하고 및 예측 에러를 계산함"
   ]
  },
  {
   "cell_type": "code",
   "execution_count": 50,
   "id": "circular-girlfriend",
   "metadata": {},
   "outputs": [],
   "source": [
    "# Initialize the loss function\n",
    "loss_fn = nn.CrossEntropyLoss()"
   ]
  },
  {
   "cell_type": "markdown",
   "id": "turkish-height",
   "metadata": {},
   "source": [
    "### Optimization pass\n",
    "- 최적화는 각 학습 단계에서 모델 오차를 줄이기 위해 파라미터를 조절하는 단계\n",
    "- 모든 최적화 로직은 `optimizer` object로 캡슐레이션 되어있음\n",
    "- ADAM, RMSProp와 같은 다양한 최적화 알고리즘을 사용할 수 있음 ([different optimizers](https://pytorch.org/docs/stable/optim.html))\n",
    "- 학습률를 전달하고 학습에 필요한 파라미터를 등록함으로써 optimizer를 초기화 할 수 있음"
   ]
  },
  {
   "cell_type": "code",
   "execution_count": 51,
   "id": "grave-stockholm",
   "metadata": {},
   "outputs": [],
   "source": [
    "optimizer = torch.optim.SGD(model.parameters(), lr=learning_rate)"
   ]
  },
  {
   "cell_type": "markdown",
   "id": "second-standing",
   "metadata": {},
   "source": [
    "반복 학습과정 내부에는 최적화가 3단계로 진행됨\n",
    "- 모델 파라미터의 경사 초기화를 위해 `optimizer.zero_grad()` 호출함. 기본값에 의해 경사는 누적됨. 이중 계산을 막기 위해 각 반복에서 명시적으로 0을 초기화해야 함\n",
    "- `loss.backwards()`을 사용하여 예측 오차를 역전파. Pytorch는 각 파라미터 손실의 경사를 저장함.\n",
    "- `optimizer.step()` 호출하면 역전파 경로에서 수집된 경사로 인해 파라미터를 조절할 수 있음.\n"
   ]
  },
  {
   "cell_type": "markdown",
   "id": "second-poland",
   "metadata": {},
   "source": [
    "### Full implementation"
   ]
  },
  {
   "cell_type": "code",
   "execution_count": 52,
   "id": "subtle-phase",
   "metadata": {},
   "outputs": [],
   "source": [
    "def train_loop(dataloader, model, loss_fn, optimizer):\n",
    "    size = len(dataloader.dataset)\n",
    "    for batch, (X, y) in enumerate(dataloader):        \n",
    "        # Compute prediction and loss\n",
    "        pred = model(X)\n",
    "        loss = loss_fn(pred, y)\n",
    "        \n",
    "        # Backpropagation\n",
    "        optimizer.zero_grad()\n",
    "        loss.backward()\n",
    "        optimizer.step()\n",
    "\n",
    "        if batch % 100 == 0:\n",
    "            loss, current = loss.item(), batch * len(X)\n",
    "            print(f\"loss: {loss:>7f}  [{current:>5d}/{size:>5d}]\")\n",
    "\n",
    "\n",
    "def test_loop(dataloader, model, loss_fn):\n",
    "    size = len(dataloader.dataset)\n",
    "    test_loss, correct = 0, 0\n",
    "\n",
    "    with torch.no_grad():\n",
    "        for X, y in dataloader:\n",
    "            pred = model(X)\n",
    "            test_loss += loss_fn(pred, y).item()\n",
    "            correct += (pred.argmax(1) == y).type(torch.float).sum().item()\n",
    "            \n",
    "    test_loss /= size\n",
    "    correct /= size\n",
    "    print(f\"Test Error: \\n Accuracy: {(100*correct):>0.1f}%, Avg loss: {test_loss:>8f} \\n\")"
   ]
  },
  {
   "cell_type": "markdown",
   "id": "rapid-alloy",
   "metadata": {},
   "source": [
    "`train_loop` 와 `test_loop`에 손실함수, 최적화 함수를 전달. 모델 성능향상을 위해 epoch 수를 높게 조절할 수 있음."
   ]
  },
  {
   "cell_type": "code",
   "execution_count": 53,
   "id": "different-volleyball",
   "metadata": {},
   "outputs": [
    {
     "name": "stdout",
     "output_type": "stream",
     "text": [
      "Epoch 1\n",
      "-------------------------------\n",
      "loss: 2.300640  [    0/60000]\n",
      "loss: 2.290309  [ 6400/60000]\n",
      "loss: 2.286352  [12800/60000]\n",
      "loss: 2.284961  [19200/60000]\n",
      "loss: 2.274725  [25600/60000]\n",
      "loss: 2.273580  [32000/60000]\n",
      "loss: 2.268600  [38400/60000]\n",
      "loss: 2.267196  [44800/60000]\n",
      "loss: 2.237566  [51200/60000]\n",
      "loss: 2.240211  [57600/60000]\n",
      "Test Error: \n",
      " Accuracy: 43.2%, Avg loss: 0.035035 \n",
      "\n",
      "Epoch 2\n",
      "-------------------------------\n",
      "loss: 2.225451  [    0/60000]\n",
      "loss: 2.211274  [ 6400/60000]\n",
      "loss: 2.202846  [12800/60000]\n",
      "loss: 2.202437  [19200/60000]\n",
      "loss: 2.185632  [25600/60000]\n",
      "loss: 2.186528  [32000/60000]\n",
      "loss: 2.178825  [38400/60000]\n",
      "loss: 2.179127  [44800/60000]\n",
      "loss: 2.110761  [51200/60000]\n",
      "loss: 2.115404  [57600/60000]\n",
      "Test Error: \n",
      " Accuracy: 43.8%, Avg loss: 0.033081 \n",
      "\n",
      "Epoch 3\n",
      "-------------------------------\n",
      "loss: 2.113491  [    0/60000]\n",
      "loss: 2.087825  [ 6400/60000]\n",
      "loss: 2.064968  [12800/60000]\n",
      "loss: 2.056619  [19200/60000]\n",
      "loss: 2.046947  [25600/60000]\n",
      "loss: 2.065896  [32000/60000]\n",
      "loss: 2.034297  [38400/60000]\n",
      "loss: 2.052040  [44800/60000]\n",
      "loss: 1.928051  [51200/60000]\n",
      "loss: 1.933435  [57600/60000]\n",
      "Test Error: \n",
      " Accuracy: 51.9%, Avg loss: 0.030317 \n",
      "\n",
      "Epoch 4\n",
      "-------------------------------\n",
      "loss: 1.959605  [    0/60000]\n",
      "loss: 1.917577  [ 6400/60000]\n",
      "loss: 1.876417  [12800/60000]\n",
      "loss: 1.854135  [19200/60000]\n",
      "loss: 1.876710  [25600/60000]\n",
      "loss: 1.927602  [32000/60000]\n",
      "loss: 1.856583  [38400/60000]\n",
      "loss: 1.912474  [44800/60000]\n",
      "loss: 1.733532  [51200/60000]\n",
      "loss: 1.732963  [57600/60000]\n",
      "Test Error: \n",
      " Accuracy: 53.3%, Avg loss: 0.027457 \n",
      "\n",
      "Epoch 5\n",
      "-------------------------------\n",
      "loss: 1.802685  [    0/60000]\n",
      "loss: 1.753590  [ 6400/60000]\n",
      "loss: 1.699848  [12800/60000]\n",
      "loss: 1.670871  [19200/60000]\n",
      "loss: 1.725096  [25600/60000]\n",
      "loss: 1.806880  [32000/60000]\n",
      "loss: 1.705585  [38400/60000]\n",
      "loss: 1.798454  [44800/60000]\n",
      "loss: 1.583645  [51200/60000]\n",
      "loss: 1.581472  [57600/60000]\n",
      "Test Error: \n",
      " Accuracy: 54.9%, Avg loss: 0.025258 \n",
      "\n",
      "Epoch 6\n",
      "-------------------------------\n",
      "loss: 1.672861  [    0/60000]\n",
      "loss: 1.625977  [ 6400/60000]\n",
      "loss: 1.560068  [12800/60000]\n",
      "loss: 1.539769  [19200/60000]\n",
      "loss: 1.602993  [25600/60000]\n",
      "loss: 1.703898  [32000/60000]\n",
      "loss: 1.589475  [38400/60000]\n",
      "loss: 1.705483  [44800/60000]\n",
      "loss: 1.474349  [51200/60000]\n",
      "loss: 1.473977  [57600/60000]\n",
      "Test Error: \n",
      " Accuracy: 56.5%, Avg loss: 0.023585 \n",
      "\n",
      "Epoch 7\n",
      "-------------------------------\n",
      "loss: 1.566365  [    0/60000]\n",
      "loss: 1.526280  [ 6400/60000]\n",
      "loss: 1.445409  [12800/60000]\n",
      "loss: 1.441497  [19200/60000]\n",
      "loss: 1.504358  [25600/60000]\n",
      "loss: 1.614698  [32000/60000]\n",
      "loss: 1.499078  [38400/60000]\n",
      "loss: 1.628716  [44800/60000]\n",
      "loss: 1.391450  [51200/60000]\n",
      "loss: 1.392760  [57600/60000]\n",
      "Test Error: \n",
      " Accuracy: 57.8%, Avg loss: 0.022282 \n",
      "\n",
      "Epoch 8\n",
      "-------------------------------\n",
      "loss: 1.478979  [    0/60000]\n",
      "loss: 1.448136  [ 6400/60000]\n",
      "loss: 1.352083  [12800/60000]\n",
      "loss: 1.363494  [19200/60000]\n",
      "loss: 1.427865  [25600/60000]\n",
      "loss: 1.541563  [32000/60000]\n",
      "loss: 1.429166  [38400/60000]\n",
      "loss: 1.566872  [44800/60000]\n",
      "loss: 1.327564  [51200/60000]\n",
      "loss: 1.332324  [57600/60000]\n",
      "Test Error: \n",
      " Accuracy: 58.5%, Avg loss: 0.021271 \n",
      "\n",
      "Epoch 9\n",
      "-------------------------------\n",
      "loss: 1.408407  [    0/60000]\n",
      "loss: 1.386885  [ 6400/60000]\n",
      "loss: 1.277360  [12800/60000]\n",
      "loss: 1.301832  [19200/60000]\n",
      "loss: 1.368592  [25600/60000]\n",
      "loss: 1.483817  [32000/60000]\n",
      "loss: 1.374836  [38400/60000]\n",
      "loss: 1.522137  [44800/60000]\n",
      "loss: 1.278219  [51200/60000]\n",
      "loss: 1.285619  [57600/60000]\n",
      "Test Error: \n",
      " Accuracy: 59.2%, Avg loss: 0.020485 \n",
      "\n",
      "Epoch 10\n",
      "-------------------------------\n",
      "loss: 1.349491  [    0/60000]\n",
      "loss: 1.338654  [ 6400/60000]\n",
      "loss: 1.218173  [12800/60000]\n",
      "loss: 1.250558  [19200/60000]\n",
      "loss: 1.322092  [25600/60000]\n",
      "loss: 1.438170  [32000/60000]\n",
      "loss: 1.331827  [38400/60000]\n",
      "loss: 1.489216  [44800/60000]\n",
      "loss: 1.239552  [51200/60000]\n",
      "loss: 1.248883  [57600/60000]\n",
      "Test Error: \n",
      " Accuracy: 59.8%, Avg loss: 0.019864 \n",
      "\n",
      "Done!\n"
     ]
    }
   ],
   "source": [
    "loss_fn = nn.CrossEntropyLoss()\n",
    "optimizer = torch.optim.SGD(model.parameters(), lr=learning_rate)\n",
    "\n",
    "epochs = 10\n",
    "for t in range(epochs):\n",
    "    print(f\"Epoch {t+1}\\n-------------------------------\")\n",
    "    train_loop(train_dataloader, model, loss_fn, optimizer)\n",
    "    test_loop(test_dataloader, model, loss_fn)\n",
    "print(\"Done!\")"
   ]
  },
  {
   "cell_type": "markdown",
   "id": "novel-atmosphere",
   "metadata": {},
   "source": [
    "# Save, Load and run model predictions \n",
    "모델 상태를 지속하기 위해 저장, 읽은 후 예측 모델을 동작하는 방법을 다룸"
   ]
  },
  {
   "cell_type": "code",
   "execution_count": 54,
   "id": "composite-survey",
   "metadata": {},
   "outputs": [],
   "source": [
    "import torch\n",
    "import torch.onnx as onnx\n",
    "import torchvision.models as models "
   ]
  },
  {
   "cell_type": "markdown",
   "id": "beautiful-clock",
   "metadata": {},
   "source": [
    "## Saving and loading model weights\n",
    "pytorch 모델은 학습한 파라미터를 `state_dict`이라고 하는 내부 dictionary에 보관함. `torch.save` 함수를 사용하여 이를 저장할 수 있음"
   ]
  },
  {
   "cell_type": "code",
   "execution_count": 55,
   "id": "wireless-nomination",
   "metadata": {},
   "outputs": [],
   "source": [
    "model = models.vgg16(pretrained=True)\n",
    "torch.save(model.state_dict(), \"data/model_weights.pth\")"
   ]
  },
  {
   "cell_type": "markdown",
   "id": "casual-applicant",
   "metadata": {},
   "source": [
    "모델의 가중치를 다시 읽기 위해, 구조가 같은 모델 인스턴스를 만들고 load_state_dict() method로 파라미터를 읽어서 적용할 수 있음."
   ]
  },
  {
   "cell_type": "code",
   "execution_count": 56,
   "id": "exotic-recruitment",
   "metadata": {},
   "outputs": [
    {
     "data": {
      "text/plain": [
       "VGG(\n",
       "  (features): Sequential(\n",
       "    (0): Conv2d(3, 64, kernel_size=(3, 3), stride=(1, 1), padding=(1, 1))\n",
       "    (1): ReLU(inplace=True)\n",
       "    (2): Conv2d(64, 64, kernel_size=(3, 3), stride=(1, 1), padding=(1, 1))\n",
       "    (3): ReLU(inplace=True)\n",
       "    (4): MaxPool2d(kernel_size=2, stride=2, padding=0, dilation=1, ceil_mode=False)\n",
       "    (5): Conv2d(64, 128, kernel_size=(3, 3), stride=(1, 1), padding=(1, 1))\n",
       "    (6): ReLU(inplace=True)\n",
       "    (7): Conv2d(128, 128, kernel_size=(3, 3), stride=(1, 1), padding=(1, 1))\n",
       "    (8): ReLU(inplace=True)\n",
       "    (9): MaxPool2d(kernel_size=2, stride=2, padding=0, dilation=1, ceil_mode=False)\n",
       "    (10): Conv2d(128, 256, kernel_size=(3, 3), stride=(1, 1), padding=(1, 1))\n",
       "    (11): ReLU(inplace=True)\n",
       "    (12): Conv2d(256, 256, kernel_size=(3, 3), stride=(1, 1), padding=(1, 1))\n",
       "    (13): ReLU(inplace=True)\n",
       "    (14): Conv2d(256, 256, kernel_size=(3, 3), stride=(1, 1), padding=(1, 1))\n",
       "    (15): ReLU(inplace=True)\n",
       "    (16): MaxPool2d(kernel_size=2, stride=2, padding=0, dilation=1, ceil_mode=False)\n",
       "    (17): Conv2d(256, 512, kernel_size=(3, 3), stride=(1, 1), padding=(1, 1))\n",
       "    (18): ReLU(inplace=True)\n",
       "    (19): Conv2d(512, 512, kernel_size=(3, 3), stride=(1, 1), padding=(1, 1))\n",
       "    (20): ReLU(inplace=True)\n",
       "    (21): Conv2d(512, 512, kernel_size=(3, 3), stride=(1, 1), padding=(1, 1))\n",
       "    (22): ReLU(inplace=True)\n",
       "    (23): MaxPool2d(kernel_size=2, stride=2, padding=0, dilation=1, ceil_mode=False)\n",
       "    (24): Conv2d(512, 512, kernel_size=(3, 3), stride=(1, 1), padding=(1, 1))\n",
       "    (25): ReLU(inplace=True)\n",
       "    (26): Conv2d(512, 512, kernel_size=(3, 3), stride=(1, 1), padding=(1, 1))\n",
       "    (27): ReLU(inplace=True)\n",
       "    (28): Conv2d(512, 512, kernel_size=(3, 3), stride=(1, 1), padding=(1, 1))\n",
       "    (29): ReLU(inplace=True)\n",
       "    (30): MaxPool2d(kernel_size=2, stride=2, padding=0, dilation=1, ceil_mode=False)\n",
       "  )\n",
       "  (avgpool): AdaptiveAvgPool2d(output_size=(7, 7))\n",
       "  (classifier): Sequential(\n",
       "    (0): Linear(in_features=25088, out_features=4096, bias=True)\n",
       "    (1): ReLU(inplace=True)\n",
       "    (2): Dropout(p=0.5, inplace=False)\n",
       "    (3): Linear(in_features=4096, out_features=4096, bias=True)\n",
       "    (4): ReLU(inplace=True)\n",
       "    (5): Dropout(p=0.5, inplace=False)\n",
       "    (6): Linear(in_features=4096, out_features=1000, bias=True)\n",
       "  )\n",
       ")"
      ]
     },
     "execution_count": 56,
     "metadata": {},
     "output_type": "execute_result"
    }
   ],
   "source": [
    "model = models.vgg16()\n",
    "model.load_state_dict(torch.load(\"data/model_weights.pth\"))\n",
    "model.eval()"
   ]
  },
  {
   "cell_type": "markdown",
   "id": "patient-violence",
   "metadata": {},
   "source": [
    "> **Note:** dropout이나 batch norm이 평가모드로 설정되도록 `model.eval()` 함수를 평가 전 호출했는지 확인해야 함. 호출하지 않았다면 일관적이지 않은 결과를 도출할 수 있음."
   ]
  },
  {
   "cell_type": "markdown",
   "id": "racial-request",
   "metadata": {},
   "source": [
    "## Saving and loading models with shapes\n",
    "모델의 가중치를 읽을 때에는 모델 클래스에 신경망의 구조가 정의되어 있으므로 모델 클래스의 인스턴스를 먼저 만드는 것이 필요함. 때문에 신경망의 파라미터와 더불어 신경망의 구조를 함께 저장하기 원한다면 `model.state_dict()` 대신 `model` 자체를 저장하거나 읽을 수 있음."
   ]
  },
  {
   "cell_type": "code",
   "execution_count": 57,
   "id": "fifty-geometry",
   "metadata": {},
   "outputs": [],
   "source": [
    "torch.save(model, 'data/vgg_model.pth')"
   ]
  },
  {
   "cell_type": "code",
   "execution_count": 58,
   "id": "aboriginal-lyric",
   "metadata": {},
   "outputs": [],
   "source": [
    "model = torch.load('data/vgg_model.pth')"
   ]
  },
  {
   "cell_type": "markdown",
   "id": "modified-melissa",
   "metadata": {},
   "source": [
    "## Exporting the model to ONNX\n",
    "- 다른 플랫폼, 다른 언어에서도 테스트가 가능하도록 기능 지원(ONNX runtime 필요)\n",
    "- input_image는 맞은 자료형과 모양이라면 랜덤하게 결정되어도 무방함. sample data 개념.\n",
    "\n",
    "[참고자료]\n",
    "- [Pytorch를 모델을 ONNX으로 변환하고 ONNX 런타임에서 실행하기](https://tutorials.pytorch.kr/advanced/super_resolution_with_onnxruntime.html)\n",
    "- [Pytorch를 ONNX에서 export 하기](https://yunmorning.tistory.com/17)\n",
    "- https://netron.app/"
   ]
  },
  {
   "cell_type": "code",
   "execution_count": 59,
   "id": "suffering-offense",
   "metadata": {},
   "outputs": [],
   "source": [
    "input_image = torch.zeros((1,3,224,224))\n",
    "onnx.export(model, input_image, 'data/model.onnx')"
   ]
  }
 ],
 "metadata": {
  "kernelspec": {
   "display_name": "Python 3",
   "language": "python",
   "name": "python3"
  },
  "language_info": {
   "codemirror_mode": {
    "name": "ipython",
    "version": 3
   },
   "file_extension": ".py",
   "mimetype": "text/x-python",
   "name": "python",
   "nbconvert_exporter": "python",
   "pygments_lexer": "ipython3",
   "version": "3.7.10"
  }
 },
 "nbformat": 4,
 "nbformat_minor": 5
}
