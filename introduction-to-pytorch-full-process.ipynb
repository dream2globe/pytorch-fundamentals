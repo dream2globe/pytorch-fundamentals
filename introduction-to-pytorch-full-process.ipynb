{
 "cells": [
  {
   "cell_type": "markdown",
   "id": "exclusive-dispute",
   "metadata": {},
   "source": [
    "# The full model building process"
   ]
  },
  {
   "cell_type": "code",
   "execution_count": 1,
   "id": "thrown-oxide",
   "metadata": {},
   "outputs": [],
   "source": [
    "%matplotlib inline"
   ]
  },
  {
   "cell_type": "markdown",
   "id": "floral-specification",
   "metadata": {},
   "source": [
    "## Working with data"
   ]
  },
  {
   "cell_type": "code",
   "execution_count": 2,
   "id": "variable-mainland",
   "metadata": {},
   "outputs": [],
   "source": [
    "import torch\n",
    "from torch import nn\n",
    "from torch.utils.data import DataLoader\n",
    "from torchvision import datasets\n",
    "from torchvision.transforms import ToTensor, Lambda, Compose\n",
    "import matplotlib.pyplot as plt"
   ]
  },
  {
   "cell_type": "markdown",
   "id": "willing-asthma",
   "metadata": {},
   "source": [
    "- PyTorch는 [TorchText](https://pytorch.org/text/stable/index.html), [TorchVision](https://pytorch.org/vision/stable/index.html), [TorchAudio](https://pytorch.org/audio/stable/index.html)과 같은 도메인 특화된 라이브러리를 제공하며 본 예시에는 TorchVision dataset을 사용함\n",
    "- `torchVision.dataset` 모듈은 CIFAR, COCO 등 현실 비전데이터를 포함하며([full list here](https://pytorch.org/docs/stable/torchvision/datasets.html)) 예제에서는 **FashionMNIST**를 사용함"
   ]
  },
  {
   "cell_type": "code",
   "execution_count": 3,
   "id": "returning-bulletin",
   "metadata": {},
   "outputs": [],
   "source": [
    "training_data = datasets.FashionMNIST(\n",
    "    root=\"data\",\n",
    "    train=True,\n",
    "    download=True,\n",
    "    transform=ToTensor()\n",
    ")\n",
    "\n",
    "test_data = datasets.FashionMNIST(\n",
    "    root=\"data\",\n",
    "    train=False,\n",
    "    download=True,\n",
    "    transform=ToTensor()\n",
    ")"
   ]
  },
  {
   "cell_type": "markdown",
   "id": "valuable-ability",
   "metadata": {},
   "source": [
    "- `dataset`은 `dataLoader`의 매개 변수로써 데이터를 통화시키며, 이러한 처리를 통해 batching, sampling, shuffling 그리고 multiprocess을 제공함\n",
    "- batch size는 64로 설정함"
   ]
  },
  {
   "cell_type": "code",
   "execution_count": 4,
   "id": "arranged-vessel",
   "metadata": {},
   "outputs": [
    {
     "name": "stdout",
     "output_type": "stream",
     "text": [
      "Shape of X [N, C, H, W]:  torch.Size([64, 1, 28, 28])\n",
      "Shape of y:  torch.Size([64]) torch.int64\n"
     ]
    }
   ],
   "source": [
    "batch_size = 64\n",
    "\n",
    "train_dataloader = DataLoader(training_data, batch_size=batch_size)\n",
    "test_dataloader = DataLoader(training_data, batch_size=batch_size)\n",
    "\n",
    "for X, y in test_dataloader:\n",
    "    print(\"Shape of X [N, C, H, W]: \", X.shape)\n",
    "    print(\"Shape of y: \", y.shape, y.dtype)\n",
    "    break"
   ]
  },
  {
   "cell_type": "markdown",
   "id": "tested-honolulu",
   "metadata": {},
   "source": [
    "## Creating models\n",
    "\n",
    "- 신경망 구조 정의를 위해 [nn.Module](https://pytorch.org/docs/stable/generated/torch.nn.Module.html)을 상속한 클래스를 작성함\n",
    "- 신경망의 각 층은 `__init__` 안에 정의하고, 어떻게 데이터를 통화할 지 `forward` 함수에 정의함 \n",
    "- 하드웨어 가속을 사용하기 위해 GPU로 인스턴스를 옮김"
   ]
  },
  {
   "cell_type": "code",
   "execution_count": 5,
   "id": "increased-relation",
   "metadata": {},
   "outputs": [
    {
     "name": "stdout",
     "output_type": "stream",
     "text": [
      "Using cuda device\n",
      "NeuralNetwork(\n",
      "  (flatten): Flatten(start_dim=1, end_dim=-1)\n",
      "  (linear_relu_stack): Sequential(\n",
      "    (0): Linear(in_features=784, out_features=512, bias=True)\n",
      "    (1): ReLU()\n",
      "    (2): Linear(in_features=512, out_features=512, bias=True)\n",
      "    (3): ReLU()\n",
      "    (4): Linear(in_features=512, out_features=10, bias=True)\n",
      "    (5): ReLU()\n",
      "  )\n",
      ")\n"
     ]
    }
   ],
   "source": [
    "device = \"cuda\" if torch.cuda.is_available() else \"cpu\"\n",
    "print(\"Using {} device\".format(device))\n",
    "\n",
    "class NeuralNetwork(nn.Module):\n",
    "    def __init__(self):\n",
    "        super(NeuralNetwork, self).__init__()\n",
    "        self.flatten = nn.Flatten()\n",
    "        self.linear_relu_stack = nn.Sequential(\n",
    "            nn.Linear(28*28, 512),\n",
    "            nn.ReLU(),\n",
    "            nn.Linear(512, 512),\n",
    "            nn.ReLU(),\n",
    "            nn.Linear(512, 10),\n",
    "            nn.ReLU()\n",
    "        )\n",
    "\n",
    "    def forward(self, x):\n",
    "        x = self.flatten(x)\n",
    "        logits = self.linear_relu_stack(x)\n",
    "        return logits\n",
    "\n",
    "model = NeuralNetwork().to(device)\n",
    "print(model)"
   ]
  },
  {
   "cell_type": "markdown",
   "id": "dominant-knitting",
   "metadata": {},
   "source": [
    "### Optimizing the Model Parameters\n",
    "모델 학습을 위해 [loss function](https://pytorch.org/docs/stable/nn.html#loss-functions>) 과 [optimizer](https://pytorch.org/docs/stable/optim.html)을 구현"
   ]
  },
  {
   "cell_type": "code",
   "execution_count": 6,
   "id": "utility-uzbekistan",
   "metadata": {},
   "outputs": [],
   "source": [
    "loss_fn = nn.CrossEntropyLoss()\n",
    "learning_rate = 1e-3\n",
    "optimizer = torch.optim.SGD(model.parameters(), lr=learning_rate)"
   ]
  },
  {
   "cell_type": "markdown",
   "id": "satisfactory-madison",
   "metadata": {},
   "source": [
    "단일 학습 반복에서 모델은 학습 데이터의 예측값을 만들고 학습 에러를 줄이기 위해 모델 파라미터를 조절함"
   ]
  },
  {
   "cell_type": "code",
   "execution_count": 7,
   "id": "oriented-prophet",
   "metadata": {},
   "outputs": [],
   "source": [
    "def train(dataloader, model, loss_fn, optimizer):\n",
    "    size = len(dataloader.dataset)\n",
    "    for batch, (X, y) in enumerate(dataloader):\n",
    "        X, y = X.to(device), y.to(device)\n",
    "        # Compute prediction error\n",
    "        pred = model(X)\n",
    "        loss = loss_fn(pred, y)\n",
    "        # Backpropagation\n",
    "        optimizer.zero_grad()\n",
    "        loss.backward()\n",
    "        optimizer.step()\n",
    "        # Print loss\n",
    "        if batch % 100 == 0:\n",
    "            loss, current = loss.item(), batch * len(X)\n",
    "            print(f\"loss: {loss:>7f} [{current:>5d}/{size:>5d}]\")"
   ]
  },
  {
   "cell_type": "markdown",
   "id": "accredited-method",
   "metadata": {},
   "source": [
    "test 데이터셋으로 모델 성능을 확인"
   ]
  },
  {
   "cell_type": "code",
   "execution_count": 8,
   "id": "connected-glance",
   "metadata": {},
   "outputs": [],
   "source": [
    "def test(dataloader, model):\n",
    "    size = len(dataloader.dataset)\n",
    "    model.eval() # 평가모드로 모델이 사용됨을 선언\n",
    "    test_loss, correct = 0, 0\n",
    "    with torch.no_grad(): # 오차 역전차를 사용하지 않음(속도 샹항)\n",
    "        for X, y in dataloader:\n",
    "            X, y = X.to(device), y.to(device)\n",
    "            pred = model(X)\n",
    "            test_loss += loss_fn(pred, y).item()\n",
    "            correct += (pred.argmax(1) == y).type(torch.float).sum().item()\n",
    "    test_loss /= size\n",
    "    correct /= size\n",
    "    print(f\"Test Error: \\n Accuracy: {(100*correct):>0.1f}%, Avg loss: {test_loss:>8f} \\n\")"
   ]
  },
  {
   "cell_type": "markdown",
   "id": "still-holiday",
   "metadata": {},
   "source": [
    "학습 과정은 여러번 반복된다. 각 epoch에서 모델은 좀 더 나은 예측을 위해 파라미터를 학습한다. 매번 epoch에서 정확도는 오르고 loss는 내려가길 기대한다. "
   ]
  },
  {
   "cell_type": "code",
   "execution_count": 9,
   "id": "desirable-amber",
   "metadata": {},
   "outputs": [
    {
     "name": "stdout",
     "output_type": "stream",
     "text": [
      "Epoch 1\n",
      "-------------------------------\n",
      "loss: 2.309243 [    0/60000]\n",
      "loss: 2.297120 [ 6400/60000]\n",
      "loss: 2.283362 [12800/60000]\n",
      "loss: 2.270633 [19200/60000]\n",
      "loss: 2.265659 [25600/60000]\n",
      "loss: 2.250196 [32000/60000]\n",
      "loss: 2.248065 [38400/60000]\n",
      "loss: 2.232944 [44800/60000]\n",
      "loss: 2.245894 [51200/60000]\n",
      "loss: 2.189376 [57600/60000]\n",
      "Test Error: \n",
      " Accuracy: 49.0%, Avg loss: 0.034527 \n",
      "\n",
      "Epoch 2\n",
      "-------------------------------\n",
      "loss: 2.240046 [    0/60000]\n",
      "loss: 2.233892 [ 6400/60000]\n",
      "loss: 2.191683 [12800/60000]\n",
      "loss: 2.171647 [19200/60000]\n",
      "loss: 2.153146 [25600/60000]\n",
      "loss: 2.130499 [32000/60000]\n",
      "loss: 2.133563 [38400/60000]\n",
      "loss: 2.104250 [44800/60000]\n",
      "loss: 2.142018 [51200/60000]\n",
      "loss: 2.016475 [57600/60000]\n",
      "Test Error: \n",
      " Accuracy: 49.1%, Avg loss: 0.032314 \n",
      "\n",
      "Epoch 3\n",
      "-------------------------------\n",
      "loss: 2.146336 [    0/60000]\n",
      "loss: 2.125448 [ 6400/60000]\n",
      "loss: 2.045069 [12800/60000]\n",
      "loss: 2.002794 [19200/60000]\n",
      "loss: 1.958848 [25600/60000]\n",
      "loss: 1.942996 [32000/60000]\n",
      "loss: 1.943800 [38400/60000]\n",
      "loss: 1.905630 [44800/60000]\n",
      "loss: 1.989484 [51200/60000]\n",
      "loss: 1.761697 [57600/60000]\n",
      "Test Error: \n",
      " Accuracy: 49.4%, Avg loss: 0.029116 \n",
      "\n",
      "Epoch 4\n",
      "-------------------------------\n",
      "loss: 2.018105 [    0/60000]\n",
      "loss: 1.971522 [ 6400/60000]\n",
      "loss: 1.859397 [12800/60000]\n",
      "loss: 1.780413 [19200/60000]\n",
      "loss: 1.724021 [25600/60000]\n",
      "loss: 1.745366 [32000/60000]\n",
      "loss: 1.725005 [38400/60000]\n",
      "loss: 1.710729 [44800/60000]\n",
      "loss: 1.827289 [51200/60000]\n",
      "loss: 1.524425 [57600/60000]\n",
      "Test Error: \n",
      " Accuracy: 50.1%, Avg loss: 0.026150 \n",
      "\n",
      "Epoch 5\n",
      "-------------------------------\n",
      "loss: 1.892131 [    0/60000]\n",
      "loss: 1.830019 [ 6400/60000]\n",
      "loss: 1.706552 [12800/60000]\n",
      "loss: 1.594863 [19200/60000]\n",
      "loss: 1.533576 [25600/60000]\n",
      "loss: 1.597822 [32000/60000]\n",
      "loss: 1.554699 [38400/60000]\n",
      "loss: 1.574355 [44800/60000]\n",
      "loss: 1.696651 [51200/60000]\n",
      "loss: 1.368577 [57600/60000]\n",
      "Test Error: \n",
      " Accuracy: 50.6%, Avg loss: 0.024024 \n",
      "\n",
      "Epoch 6\n",
      "-------------------------------\n",
      "loss: 1.782760 [    0/60000]\n",
      "loss: 1.719855 [ 6400/60000]\n",
      "loss: 1.591256 [12800/60000]\n",
      "loss: 1.470244 [19200/60000]\n",
      "loss: 1.393917 [25600/60000]\n",
      "loss: 1.492620 [32000/60000]\n",
      "loss: 1.440588 [38400/60000]\n",
      "loss: 1.482520 [44800/60000]\n",
      "loss: 1.600442 [51200/60000]\n",
      "loss: 1.269737 [57600/60000]\n",
      "Test Error: \n",
      " Accuracy: 51.3%, Avg loss: 0.022564 \n",
      "\n",
      "Epoch 7\n",
      "-------------------------------\n",
      "loss: 1.696461 [    0/60000]\n",
      "loss: 1.641286 [ 6400/60000]\n",
      "loss: 1.507100 [12800/60000]\n",
      "loss: 1.384782 [19200/60000]\n",
      "loss: 1.299931 [25600/60000]\n",
      "loss: 1.417703 [32000/60000]\n",
      "loss: 1.362514 [38400/60000]\n",
      "loss: 1.419183 [44800/60000]\n",
      "loss: 1.532816 [51200/60000]\n",
      "loss: 1.203782 [57600/60000]\n",
      "Test Error: \n",
      " Accuracy: 52.6%, Avg loss: 0.021551 \n",
      "\n",
      "Epoch 8\n",
      "-------------------------------\n",
      "loss: 1.630762 [    0/60000]\n",
      "loss: 1.585406 [ 6400/60000]\n",
      "loss: 1.443639 [12800/60000]\n",
      "loss: 1.324136 [19200/60000]\n",
      "loss: 1.237523 [25600/60000]\n",
      "loss: 1.362639 [32000/60000]\n",
      "loss: 1.308444 [38400/60000]\n",
      "loss: 1.375086 [44800/60000]\n",
      "loss: 1.484280 [51200/60000]\n",
      "loss: 1.157868 [57600/60000]\n",
      "Test Error: \n",
      " Accuracy: 55.1%, Avg loss: 0.020831 \n",
      "\n",
      "Epoch 9\n",
      "-------------------------------\n",
      "loss: 1.581053 [    0/60000]\n",
      "loss: 1.546595 [ 6400/60000]\n",
      "loss: 1.395051 [12800/60000]\n",
      "loss: 1.280035 [19200/60000]\n",
      "loss: 1.194300 [25600/60000]\n",
      "loss: 1.321811 [32000/60000]\n",
      "loss: 1.268887 [38400/60000]\n",
      "loss: 1.342503 [44800/60000]\n",
      "loss: 1.446712 [51200/60000]\n",
      "loss: 1.123764 [57600/60000]\n",
      "Test Error: \n",
      " Accuracy: 57.5%, Avg loss: 0.020285 \n",
      "\n",
      "Epoch 10\n",
      "-------------------------------\n",
      "loss: 1.539853 [    0/60000]\n",
      "loss: 1.516949 [ 6400/60000]\n",
      "loss: 1.357014 [12800/60000]\n",
      "loss: 1.245680 [19200/60000]\n",
      "loss: 1.162158 [25600/60000]\n",
      "loss: 1.289957 [32000/60000]\n",
      "loss: 1.237383 [38400/60000]\n",
      "loss: 1.317081 [44800/60000]\n",
      "loss: 1.415371 [51200/60000]\n",
      "loss: 1.095909 [57600/60000]\n",
      "Test Error: \n",
      " Accuracy: 59.4%, Avg loss: 0.019843 \n",
      "\n",
      "Epoch 11\n",
      "-------------------------------\n",
      "loss: 1.503732 [    0/60000]\n",
      "loss: 1.491602 [ 6400/60000]\n",
      "loss: 1.325647 [12800/60000]\n",
      "loss: 1.218125 [19200/60000]\n",
      "loss: 1.137221 [25600/60000]\n",
      "loss: 1.263227 [32000/60000]\n",
      "loss: 1.210984 [38400/60000]\n",
      "loss: 1.295893 [44800/60000]\n",
      "loss: 1.387932 [51200/60000]\n",
      "loss: 1.071965 [57600/60000]\n",
      "Test Error: \n",
      " Accuracy: 61.0%, Avg loss: 0.019466 \n",
      "\n",
      "Epoch 12\n",
      "-------------------------------\n",
      "loss: 1.471093 [    0/60000]\n",
      "loss: 1.468980 [ 6400/60000]\n",
      "loss: 1.299039 [12800/60000]\n",
      "loss: 1.194889 [19200/60000]\n",
      "loss: 1.116882 [25600/60000]\n",
      "loss: 1.240207 [32000/60000]\n",
      "loss: 1.188124 [38400/60000]\n",
      "loss: 1.277656 [44800/60000]\n",
      "loss: 1.363133 [51200/60000]\n",
      "loss: 1.050854 [57600/60000]\n",
      "Test Error: \n",
      " Accuracy: 62.3%, Avg loss: 0.019134 \n",
      "\n",
      "Epoch 13\n",
      "-------------------------------\n",
      "loss: 1.441301 [    0/60000]\n",
      "loss: 1.448483 [ 6400/60000]\n",
      "loss: 1.275173 [12800/60000]\n",
      "loss: 1.174881 [19200/60000]\n",
      "loss: 1.099875 [25600/60000]\n",
      "loss: 1.220589 [32000/60000]\n",
      "loss: 1.167632 [38400/60000]\n",
      "loss: 1.261381 [44800/60000]\n",
      "loss: 1.340564 [51200/60000]\n",
      "loss: 1.032106 [57600/60000]\n",
      "Test Error: \n",
      " Accuracy: 63.4%, Avg loss: 0.018838 \n",
      "\n",
      "Epoch 14\n",
      "-------------------------------\n",
      "loss: 1.413942 [    0/60000]\n",
      "loss: 1.429540 [ 6400/60000]\n",
      "loss: 1.254251 [12800/60000]\n",
      "loss: 1.157162 [19200/60000]\n",
      "loss: 1.085533 [25600/60000]\n",
      "loss: 1.203059 [32000/60000]\n",
      "loss: 1.149543 [38400/60000]\n",
      "loss: 1.246377 [44800/60000]\n",
      "loss: 1.320004 [51200/60000]\n",
      "loss: 1.015378 [57600/60000]\n",
      "Test Error: \n",
      " Accuracy: 64.3%, Avg loss: 0.018568 \n",
      "\n",
      "Epoch 15\n",
      "-------------------------------\n",
      "loss: 1.388738 [    0/60000]\n",
      "loss: 1.411849 [ 6400/60000]\n",
      "loss: 1.235495 [12800/60000]\n",
      "loss: 1.141374 [19200/60000]\n",
      "loss: 1.072863 [25600/60000]\n",
      "loss: 1.187237 [32000/60000]\n",
      "loss: 1.132957 [38400/60000]\n",
      "loss: 1.232778 [44800/60000]\n",
      "loss: 1.301189 [51200/60000]\n",
      "loss: 0.999908 [57600/60000]\n",
      "Test Error: \n",
      " Accuracy: 64.9%, Avg loss: 0.018322 \n",
      "\n",
      "Done!\n"
     ]
    }
   ],
   "source": [
    "epochs = 15\n",
    "for t in range(epochs):\n",
    "    print(f\"Epoch {t+1}\\n-------------------------------\")\n",
    "    train(train_dataloader, model, loss_fn, optimizer)\n",
    "    test(test_dataloader, model)\n",
    "print(\"Done!\")"
   ]
  },
  {
   "cell_type": "markdown",
   "id": "operational-purple",
   "metadata": {},
   "source": [
    "## Saving Models\n",
    "dictionary 형태로 직렬화하는 것이 모델을 저장하는 일반적인 방법임(모델 파라미터를 포함)"
   ]
  },
  {
   "cell_type": "code",
   "execution_count": 10,
   "id": "atmospheric-reporter",
   "metadata": {},
   "outputs": [
    {
     "name": "stdout",
     "output_type": "stream",
     "text": [
      "Saved PyTorch Model State to model.pth\n"
     ]
    }
   ],
   "source": [
    "torch.save(model.state_dict(), \"data/model.pth\")\n",
    "print(\"Saved PyTorch Model State to model.pth\")"
   ]
  },
  {
   "cell_type": "markdown",
   "id": "certain-snapshot",
   "metadata": {},
   "source": [
    "## Loading Models"
   ]
  },
  {
   "cell_type": "markdown",
   "id": "presidential-semester",
   "metadata": {},
   "source": [
    "모델을 읽은 것은 신경망 모델의 구조 재생성을 포함함"
   ]
  },
  {
   "cell_type": "code",
   "execution_count": 11,
   "id": "fifth-asthma",
   "metadata": {},
   "outputs": [
    {
     "data": {
      "text/plain": [
       "<All keys matched successfully>"
      ]
     },
     "execution_count": 11,
     "metadata": {},
     "output_type": "execute_result"
    }
   ],
   "source": [
    "model = NeuralNetwork()\n",
    "model.load_state_dict(torch.load(\"data/model.pth\"))"
   ]
  },
  {
   "cell_type": "markdown",
   "id": "settled-mortgage",
   "metadata": {},
   "source": [
    "읽은 모델은 예측 생성에 활용할 수 있음"
   ]
  },
  {
   "cell_type": "code",
   "execution_count": 12,
   "id": "painted-carry",
   "metadata": {},
   "outputs": [
    {
     "name": "stdout",
     "output_type": "stream",
     "text": [
      "Predicted: \"Ankle boot\", Actual: \"Ankle boot\"\n"
     ]
    }
   ],
   "source": [
    "classes = [\n",
    "    \"T-shirt/top\",\n",
    "    \"Trouser\",\n",
    "    \"Pullover\",\n",
    "    \"Dress\",\n",
    "    \"Coat\",\n",
    "    \"Sandal\",\n",
    "    \"Shirt\",\n",
    "    \"Sneaker\",\n",
    "    \"Bag\",\n",
    "    \"Ankle boot\",\n",
    "]\n",
    "\n",
    "model.eval()\n",
    "x, y = test_data[0][0], test_data[0][1]\n",
    "\n",
    "with torch.no_grad():\n",
    "    pred = model(x)\n",
    "    predicted, actual = classes[pred[0].argmax(0)], classes[y]\n",
    "    print(f'Predicted: \"{predicted}\", Actual: \"{actual}\"')"
   ]
  }
 ],
 "metadata": {
  "kernelspec": {
   "display_name": "Python 3",
   "language": "python",
   "name": "python3"
  },
  "language_info": {
   "codemirror_mode": {
    "name": "ipython",
    "version": 3
   },
   "file_extension": ".py",
   "mimetype": "text/x-python",
   "name": "python",
   "nbconvert_exporter": "python",
   "pygments_lexer": "ipython3",
   "version": "3.7.10"
  }
 },
 "nbformat": 4,
 "nbformat_minor": 5
}
